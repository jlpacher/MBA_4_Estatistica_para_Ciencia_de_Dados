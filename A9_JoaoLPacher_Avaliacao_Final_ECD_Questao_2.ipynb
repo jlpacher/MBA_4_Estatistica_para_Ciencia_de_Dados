{
 "cells": [
  {
   "cell_type": "markdown",
   "id": "3b453a83",
   "metadata": {},
   "source": [
    "# Avaliação Final - ECD - Estatística para Ciência de Dados"
   ]
  },
  {
   "cell_type": "markdown",
   "id": "24b9630b",
   "metadata": {},
   "source": [
    "### Questão 2:<br>\n",
    "Seja a variável aleatória com distribuição de probabilidade: P(X=0)=0,2; P(X=1)=0,1; P(X=2)=0,3; P(X = 4) = 0,4. Uma amostra com 100 observações é sorteada. Qual é a probabilidade de que a média amostral é maior do que 3? Calcule o valor teórico e compare com a simulação, conforme feito na aula.<br>\n",
    "\n",
    "Anexe o arquivo notebook com a sua resposta. Atenção, se constatado plágio, a questão será zerada.<br>\n",
    "\n",
    "Tamanho máximo para arquivos: 7.8Gb, número máximo de anexos: 1<br>"
   ]
  },
  {
   "cell_type": "code",
   "execution_count": 1,
   "id": "8ceea16f",
   "metadata": {},
   "outputs": [],
   "source": [
    "def esperanca(X, p_X):\n",
    "    E = 0\n",
    "    for i in range(0, len(X)):\n",
    "        E += X[i]*p_X[i]\n",
    "    return E\n",
    "\n",
    "def desviopadrao(X, p_X):\n",
    "    E = 0; E2 = 0\n",
    "    for i in range(0, len(X)):\n",
    "        E += X[i]*p_X[i]\n",
    "        E2 += (X[i]**2)*p_X[i]\n",
    "    DP = np.sqrt(E2-E**2)\n",
    "    return DP\n",
    "    \n",
    "def z_calculado(X_test, E, DP, n):\n",
    "    Zt = (X_test - E) / (DP / np.sqrt(n))\n",
    "    return Zt\n"
   ]
  },
  {
   "cell_type": "code",
   "execution_count": 2,
   "id": "db6f4f45",
   "metadata": {},
   "outputs": [
    {
     "data": {
      "image/png": "[encoded data removed]",
      "text/plain": [
       "<Figure size 576x432 with 1 Axes>"
      ]
     },
     "metadata": {
      "needs_background": "light"
     },
     "output_type": "display_data"
    },
    {
     "name": "stdout",
     "output_type": "stream",
     "text": [
      "Média da Simulação: 2.298 \n",
      "Média da População: 2.300\n",
      "\n",
      "Probabilidade Simulada: 0.00000000 \n",
      "Probabilidade Teórica: 0.00000326\n"
     ]
    }
   ],
   "source": [
    "import numpy as np\n",
    "import scipy.stats\n",
    "import matplotlib.pyplot as plt\n",
    "\n",
    "# Distribuição de probabilidades\n",
    "X = [0,1,2,4]\n",
    "p_X = [0.2,0.1,0.3,0.4]\n",
    "# Amostras para simulação\n",
    "n = 100\n",
    "# Valor a ser testado\n",
    "X_test = 3\n",
    "\n",
    "E = esperanca(X, p_X)\n",
    "DP = desviopadrao(X, p_X)\n",
    "Zt = z_calculado(X_test, E, DP, n)\n",
    "\n",
    "# Probabilidade teórica de X>3 ou z>Zt\n",
    "p_teorica = 1 - scipy.stats.norm.cdf(Zt)\n",
    "\n",
    "# Probabilidade simulada de X>3 ou z>Zt\n",
    "n = 100      # número de amostras\n",
    "ns = 1000    # número de simulacoes\n",
    "vx = []      # armazena a media amostral\n",
    "for s in range(0,ns):\n",
    "    A = np.random.choice(X, n, p=p_X)\n",
    "    vx.append(np.mean(A))\n",
    "\n",
    "nmaior = 0\n",
    "for i in range(0, len(vx)):\n",
    "    if(vx[i] > X_test):\n",
    "        nmaior = nmaior + 1\n",
    "nmaior = nmaior/len(vx)\n",
    "\n",
    "# Plotando os resultados num gráfico\n",
    "plt.figure(figsize=(8,6))\n",
    "plt.title('Gráfico da Simulação da Probabilidade de X > 3')\n",
    "plt.hist(x=vx, bins='auto',color='#0504aa', alpha=0.7, rwidth=0.85, density = True)\n",
    "plt.xlabel(r'$\\bar{X}$', fontsize=20)\n",
    "plt.ylabel(r'$P(\\bar{X})$', fontsize=20)\n",
    "plt.axvline(x=np.mean(vx), color='green', linestyle='--', label = 'Média da Simulação')\n",
    "plt.axvline(x=E, color='red', linestyle=':', label = 'Média da População')\n",
    "plt.legend()\n",
    "plt.show(True)\n",
    "\n",
    "print(\"Média da Simulação: %.3f\" % np.mean(vx),\"\\nMédia da População: %.3f\" % E)\n",
    "print()\n",
    "print(\"Probabilidade Simulada: %.8f\" % nmaior, \"\\nProbabilidade Teórica: %.8f\" % p_teorica)"
   ]
  },
  {
   "cell_type": "code",
   "execution_count": null,
   "id": "ba8212f9",
   "metadata": {},
   "outputs": [],
   "source": []
  }
 ],
 "metadata": {
  "kernelspec": {
   "display_name": "Python 3",
   "language": "python",
   "name": "python3"
  },
  "language_info": {
   "codemirror_mode": {
    "name": "ipython",
    "version": 3
   },
   "file_extension": ".py",
   "mimetype": "text/x-python",
   "name": "python",
   "nbconvert_exporter": "python",
   "pygments_lexer": "ipython3",
   "version": "3.8.10"
  }
 },
 "nbformat": 4,
 "nbformat_minor": 5
}
