{
 "cells": [
  {
   "cell_type": "markdown",
   "id": "86e2cc5a",
   "metadata": {},
   "source": [
    "# AS5 - ECD - Teste de hipóteses"
   ]
  },
  {
   "cell_type": "markdown",
   "id": "501a10ab",
   "metadata": {},
   "source": [
    "### Questão 1:<br>\n",
    "Sobre o valor-p, assinale a alternativa INCORRETA:<br>\n",
    "\n",
    "Escolha uma opção:<br>\n",
    "a. Quanto menor o valor, maior é a evidência contra a aceitação da hipóteses nula.<br>\n",
    "<font color= 'red'>b. O valor p retorna a probabilidade de erro do tipo II.</font><br>\n",
    "c. O valor p é o menor nível de significância 𝛼 no qual é possível rejeitar a hipótese nula.<br>\n",
    "d. Se p=0,01, então em 1 de 100 experimentos, a hipótese nula será aceita.<br>\n",
    "e. O valor p é a probabilidade de observar os dados se a hipótese nula for verdadeira.<br>"
   ]
  },
  {
   "cell_type": "code",
   "execution_count": null,
   "id": "1ec90e46",
   "metadata": {},
   "outputs": [],
   "source": []
  },
  {
   "cell_type": "markdown",
   "id": "77297318",
   "metadata": {},
   "source": [
    "### Questão 2:<br>\n",
    "Uma fábrica anuncia que o índice de nicotina dos cigarros de uma dada marca é igual a 20 mg por cigarro. Um laboratório realiza 10 análises do índice obtendo: 22,23,19,21,25,20,21,22,18,24. Sabe-se que o índice de nicotina dos cigarros dessa marca se distribui normalmente com variância 4 mg2. Pode-se aceitar a afirmação do fabricante, ao nível de 5%? (Use os códigos em Python fornecidos na aula). Teste as hipóteses: H0:μ=20mg;Ha:μ>20mg.<br>\n",
    "\n",
    "Escolha uma opção:<br>\n",
    "a. Sim, pois  x¯obs= 22,0 >  x¯c= 21,5.<br>\n",
    "b. Sim, pois  x¯obs= 22,0 <  x¯c= 21,5.<br>\n",
    "c. Sim, pois  x¯obs= 21,0 >  x¯c= 20,0.<br>\n",
    "<font color = 'red'>d. Não, pois x¯obs= 21,5 > x¯c= 21,0.</font><br>\n",
    "e. Não, pois  x¯obs= 22,5 >  x¯c= 21,5.<br>"
   ]
  },
  {
   "cell_type": "markdown",
   "id": "16884b64",
   "metadata": {},
   "source": [
    "$H_0: \\mu = 20$<br>\n",
    "$H_1: \\mu > 20$"
   ]
  },
  {
   "cell_type": "markdown",
   "id": "f9a64583",
   "metadata": {},
   "source": [
    "Verificando a fração de observações que permitem que aceitemos $H_0$."
   ]
  },
  {
   "cell_type": "code",
   "execution_count": 9,
   "id": "373b6d60",
   "metadata": {},
   "outputs": [
    {
     "data": {
      "image/png": "[encoded data removed]",
      "text/plain": [
       "<Figure size 576x288 with 1 Axes>"
      ]
     },
     "metadata": {
      "needs_background": "light"
     },
     "output_type": "display_data"
    }
   ],
   "source": [
    "# Gerando as amostras\n",
    "import numpy as np\n",
    "import matplotlib.pyplot as plt\n",
    "\n",
    "mu = 20 # hipotese a ser testada\n",
    "sigma = 2 # desvio padrao populacional com variância=4\n",
    "n = 10 #tamanho da amostra\n",
    "Ns = 10000 # numero de simulacoes\n",
    "Xm=[] #distribuicao da media amostral\n",
    "for s in range(1,Ns):\n",
    "    x = np.random.normal(mu, sigma, n) # sorteia uma amostra de tamanho n\n",
    "    Xm.append(np.mean(x))\n"
   ]
  },
  {
   "cell_type": "code",
   "execution_count": 10,
   "id": "402d0463",
   "metadata": {},
   "outputs": [
    {
     "name": "stdout",
     "output_type": "stream",
     "text": [
      "Para nivel de significância: 5 %\n",
      "Xc= 21.0   Xobs =  21.5\n",
      "Rejeitamos H0\n"
     ]
    }
   ],
   "source": [
    "# verificar a fração de observações que permitem que aceitemos $H_0$ para nivel=5%\n",
    "X = [22,23,19,21,25,20,21,22,18,24]\n",
    "\n",
    "xobs = np.mean(X)\n",
    "\n",
    "alpha = 95\n",
    "\n",
    "xc = np.percentile(Xm, alpha).round(1)\n",
    "print('Para nivel de significância:', 100-alpha, '%')\n",
    "print('Xc=',xc,'  Xobs = ', xobs)\n",
    "if(xobs < xc):\n",
    "    print(\"Aceitamos H0\")\n",
    "else:\n",
    "    print(\"Rejeitamos H0\")"
   ]
  },
  {
   "cell_type": "code",
   "execution_count": 11,
   "id": "30b0eb61",
   "metadata": {},
   "outputs": [
    {
     "data": {
      "image/png": "[encoded data removed]",
      "text/plain": [
       "<Figure size 576x288 with 1 Axes>"
      ]
     },
     "metadata": {
      "needs_background": "light"
     },
     "output_type": "display_data"
    }
   ],
   "source": [
    "# Vendo o resultado numa figura\n",
    "\n",
    "xc_95 = np.percentile(Xm, alpha)\n",
    "\n",
    "plt.figure(figsize=(8,4))\n",
    "a = plt.hist(x=Xm, bins=20, color='#0504aa', alpha=0.7, rwidth=0.85, density=True)\n",
    "plt.axvline(x=xc_95, color='red', linestyle='--', label = 'xc_95')\n",
    "plt.axvline(x=xobs, color='green', linestyle='--', label = 'xobs')\n",
    "plt.xlabel(r'$\\bar{X}$', fontsize=20)\n",
    "plt.ylabel(r'$P(\\bar{X})$', fontsize=20)\n",
    "plt.legend()\n",
    "plt.show(True) "
   ]
  },
  {
   "cell_type": "code",
   "execution_count": null,
   "id": "a944921b",
   "metadata": {},
   "outputs": [],
   "source": []
  },
  {
   "cell_type": "markdown",
   "id": "e5276b8a",
   "metadata": {},
   "source": [
    "### Questão 3:<br>\n",
    "Com relação ao teste de hipóteses, assinale a alternativa INCORRETA:<br>\n",
    "\n",
    "Escolha uma opção:<br>\n",
    "<font color = 'red'>a. O teste de hipóteses é usado para realizar a projeção de dados em um espaço de dimensão menor.</font><br>\n",
    "b. Além da média, o teste de hipóteses pode ser usado em outros parâmetros, como mediana e variância.<br>\n",
    "c. Uma hipótese é uma declaração sobre um parâmetro da população.<br>\n",
    "d. Um passo fundamental do teste de hipótese é definir a região crítica.<br>\n",
    "e. Em Ciência de Dados, o teste de hipóteses pode ser usado na seleção de atributos.<br>"
   ]
  },
  {
   "cell_type": "markdown",
   "id": "19b4bae7",
   "metadata": {},
   "source": [
    "### Questão 4:<br>\n",
    "O teste de hipótese usa as seguintes etapas, de forma sequencial:<br>\n",
    "\n",
    "Escolha uma opção:<br>\n",
    "<font color = 'red'>a. Estabelecer as hipóteses, definir a região crítica, calcular a média observada e concluir o teste.</font><br>\n",
    "b. Obter o histograma da média, ajustar uma distribuição normal, calcular o erro do tipo I, definir as hipóteses.<br>\n",
    "c. Calcular a média amostral, definir as hipóteses, calcular a região crítica.<br>\n",
    "d. Estabelecer as hipóteses, calcular a probabilidade de erro do tipo II, calcular a variância amostral.<br>\n",
    "e. Calcular a variância das amostras, definir as hipóteses, concluir o teste, calcular a região crítica.<br>"
   ]
  },
  {
   "cell_type": "markdown",
   "id": "39adf553",
   "metadata": {},
   "source": [
    "### Questão 5:<br>\n",
    "O tempo de produção de um item em uma máquina tem distribuição normal com média 25s e desvio padrão 10s. Foi feita uma manutenção na máquina para reduzir esse tempo. Uma amostra de 100 itens, coletada após a manutenção, apresentou tempo médio de produção igual a 26s. Calcule o valor p para verificar se a manutenção foi efetiva.<br>\n",
    "\n",
    "Escolha uma opção:<br>\n",
    "<font color = 'red'>a. p=0,84</font><br>\n",
    "b. p=0,05<br>\n",
    "c. p=0,03<br>\n",
    "d. p=0,55<br>\n",
    "e. p=0,61<br>"
   ]
  },
  {
   "cell_type": "markdown",
   "id": "b9db69fd",
   "metadata": {},
   "source": [
    "$H_0: \\mu = 25$<br>\n",
    "$H_1: \\mu < 25$<br>\n",
    "Assumimos que a população tem distribuição uniforme com desvio padrão $\\sigma$ = 10"
   ]
  },
  {
   "cell_type": "code",
   "execution_count": 13,
   "id": "230ecd3f",
   "metadata": {},
   "outputs": [
    {
     "data": {
      "image/png": "[encoded data removed]",
      "text/plain": [
       "<Figure size 576x288 with 1 Axes>"
      ]
     },
     "metadata": {
      "needs_background": "light"
     },
     "output_type": "display_data"
    }
   ],
   "source": [
    "# Plotando os valores\n",
    "import numpy as np\n",
    "import matplotlib.pyplot as plt\n",
    "\n",
    "mu = 25\n",
    "sigma = 10\n",
    "n = 100\n",
    "Ns = 10000\n",
    "Xm=[] #distribuicao da media amostral\n",
    "for s in range(1,Ns):\n",
    "    x = np.random.normal(mu, sigma, n) # sorteia uma amostra de tamanho n\n",
    "    Xm.append(np.mean(x))\n",
    "plt.figure(figsize=(8,4))\n",
    "a = plt.hist(x=Xm, bins=20, color='#0504aa', alpha=0.7, rwidth=0.85, label = str(Ns), density=True)\n",
    "plt.axvline(x=mu, color='r', linestyle='--', label = 'Media')\n",
    "plt.xlabel(r'$\\bar{X}$', fontsize=20)\n",
    "plt.ylabel(r'$P(\\bar{X})$', fontsize=20)\n",
    "plt.show(True)"
   ]
  },
  {
   "cell_type": "markdown",
   "id": "38c6eea0",
   "metadata": {},
   "source": [
    "Considerando o valor observado $\\bar{x}_{obs}$ = 26\n"
   ]
  },
  {
   "cell_type": "markdown",
   "id": "8c278b8d",
   "metadata": {},
   "source": [
    "O valor de $\\alpha$ em que há a transição entre aceitar ou rejeitar $H_0$ é o valor p."
   ]
  },
  {
   "cell_type": "code",
   "execution_count": 14,
   "id": "e55698b6",
   "metadata": {},
   "outputs": [
    {
     "data": {
      "image/png": "[encoded data removed]",
      "text/plain": [
       "<Figure size 576x288 with 1 Axes>"
      ]
     },
     "metadata": {
      "needs_background": "light"
     },
     "output_type": "display_data"
    }
   ],
   "source": [
    "import numpy as np\n",
    "\n",
    "xobs = 26\n",
    "xcs = []\n",
    "alphas = []\n",
    "for alpha in np.arange(1,100,2):\n",
    "    xc = np.percentile(Xm, alpha)\n",
    "    xcs.append(xc)\n",
    "    alphas.append(alpha)\n",
    "    \n",
    "plt.figure(figsize=(8,4))\n",
    "plt.plot(alphas,xcs)\n",
    "plt.axhline(y=xobs, color='r', linestyle='--', label = 'Media')\n",
    "plt.xlabel(r'$\\alpha$', fontsize=20)\n",
    "plt.ylabel(r'$\\bar{X}$', fontsize=20)\n",
    "\n",
    "plt.grid(True)\n",
    "plt.show(True)"
   ]
  },
  {
   "cell_type": "markdown",
   "id": "c7799b54",
   "metadata": {},
   "source": [
    "Calculando o valor p: $P(\\bar{X} > \\bar{x}_{obs}|\\mu=\\mu_0) = \\alpha$:"
   ]
  },
  {
   "cell_type": "code",
   "execution_count": 18,
   "id": "5993f032",
   "metadata": {},
   "outputs": [
    {
     "name": "stdout",
     "output_type": "stream",
     "text": [
      "P-valor:  0.84\n"
     ]
    }
   ],
   "source": [
    "pvalue = 0\n",
    "for i in range(0, len(Xm)):\n",
    "    if(Xm[i] < xobs):            # conta as vezes em que Xm(distrib.da média amostral) é menor que o xobs\n",
    "        pvalue = pvalue + 1\n",
    "pvalue = pvalue/len(Xm)\n",
    "print('P-valor: ', round(pvalue, 2))"
   ]
  },
  {
   "cell_type": "markdown",
   "id": "5fa2d3ef",
   "metadata": {},
   "source": [
    "Mostrando no gráfico anterior"
   ]
  },
  {
   "cell_type": "code",
   "execution_count": 16,
   "id": "471a27fa",
   "metadata": {},
   "outputs": [
    {
     "data": {
      "image/png": "[encoded data removed]",
      "text/plain": [
       "<Figure size 576x288 with 1 Axes>"
      ]
     },
     "metadata": {
      "needs_background": "light"
     },
     "output_type": "display_data"
    }
   ],
   "source": [
    "xobs = 26\n",
    "xcs = []\n",
    "alphas = []\n",
    "for alpha in np.arange(1,100,2):\n",
    "    xc = np.percentile(Xm, alpha)\n",
    "    xcs.append(xc)\n",
    "    alphas.append(alpha)\n",
    "    \n",
    "plt.figure(figsize=(8,4))\n",
    "plt.plot(alphas,xcs)\n",
    "plt.axhline(y=xobs, color='red', linestyle='--', label = 'xobs')\n",
    "plt.axvline(x=pvalue*100, color='blue', linestyle='--', label = 'p-valor')\n",
    "plt.xlabel(r'$\\alpha$', fontsize=20)\n",
    "plt.ylabel(r'$\\bar{X}$', fontsize=20)\n",
    "plt.legend()\n",
    "plt.grid(True)\n",
    "plt.show(True)"
   ]
  },
  {
   "cell_type": "code",
   "execution_count": null,
   "id": "03d8029f",
   "metadata": {},
   "outputs": [],
   "source": []
  }
 ],
 "metadata": {
  "kernelspec": {
   "display_name": "Python 3",
   "language": "python",
   "name": "python3"
  },
  "language_info": {
   "codemirror_mode": {
    "name": "ipython",
    "version": 3
   },
   "file_extension": ".py",
   "mimetype": "text/x-python",
   "name": "python",
   "nbconvert_exporter": "python",
   "pygments_lexer": "ipython3",
   "version": "3.8.10"
  }
 },
 "nbformat": 4,
 "nbformat_minor": 5
}
