{
 "cells": [
  {
   "cell_type": "markdown",
   "metadata": {
    "id": "o2DjMoUwYomT"
   },
   "source": [
    "# Prática 2\n",
    "\n",
    "## Inferência Bayesiana\n",
    "\n",
    "***Estatística para Ciência de Dados***\n",
    "\n",
    "por **Cibele Russo** (ICMC/USP - São Carlos SP)\n",
    "\n",
    "**MBA em Ciências de Dados**\n",
    "\n",
    "\n"
   ]
  },
  {
   "cell_type": "markdown",
   "metadata": {
    "id": "3n5CdjN2YomY"
   },
   "source": [
    "## Aplicação\n",
    "\n",
    "Traduzida e adaptada de https://github.com/WillKoehrsen/probabilistic-programming/blob/master/Estimating%20Probabilities%20with%20Bayesian%20Inference.ipynb\n",
    "\n",
    "\n",
    "Suponha que visitemos uma reserva de animais selvagens onde sabemos que os únicos animais são **leões, tigres e ursos**, mas não sabemos quantos de cada há nesse local. Durante o passeio, vemos **3 leões, 2 tigres e 1 urso**. Supondo que todos os animais tenham chances iguais de aparecer em nossa amostra, estime a prevalência de cada espécie. Qual é a probabilidade de o próximo animal que vemos ser um urso?"
   ]
  },
  {
   "cell_type": "markdown",
   "metadata": {
    "id": "oyLr5al7YomZ"
   },
   "source": [
    "**Modelo**\n",
    "\n",
    "O modelo subjacente é **multinomial** com parâmetros $ p_k $ (veja, por exemplo, https://en.wikipedia.org/wiki/Multinomial_distribution).\n",
    "\n",
    "A distribuição a priori de $ p_k $ é uma **distribuição Dirichlet** (veja, por exemplo, https://en.wikipedia.org/wiki/Dirichlet_distribution).\n",
    "\n",
    "O vetor $ \\alpha $ é um parâmetro da distribuição a priori de Dirichlet, também chamado de **hiperparâmetro de concentração**.\n",
    "\n",
    "Uma Distribuição Multinomial com uma Priori de Dirichlet é referida como uma Distribuição Multinomial de Dirichlet.\n"
   ]
  },
  {
   "cell_type": "markdown",
   "metadata": {
    "id": "-jWyF2IeYomZ"
   },
   "source": [
    "O modelo pode ser expresso em equações como:\n",
    "\n",
    "\n",
    "$${\\begin{array}{lclcl}{\\boldsymbol {\\alpha }}=(\\alpha _{1},\\ldots ,\\alpha _{K})  =  {\\text{hiperparâmetros de concentração}}\\\\\\mathbf {p} \\mid {\\boldsymbol {\\alpha }}  =  (p_{1},\\ldots ,p_{K})  \\sim   \\operatorname {Dir} (K,{\\boldsymbol {\\alpha }})\\\\\\mathbb {X} \\mid \\mathbf {p}   =  (x_{1},\\ldots ,x_{K})  \\sim   \\operatorname {Mult} (K,\\mathbf {p} )\\end{array}}$$\n",
    "\n",
    "Nosso objetivo é estimar $p_\\text{leões}$, $p_\\text{tigres}$, $p_\\text{ursos}$ dado o vetor observado $c = [c_{leões}, c_{tigres}, c_{ursos}]$\n"
   ]
  },
  {
   "cell_type": "markdown",
   "metadata": {
    "id": "XVlR8UPAYomZ"
   },
   "source": [
    "**Distribuição Multinomial**\n",
    "\n",
    "Este problema é um exemplo clássico da distribuição multinomial que descreve uma situação em que temos n tentativas independentes, cada uma com k resultados possíveis. Neste problema, $n = 6$ e $k = 3$. Caracterizado pela probabilidade de cada resultado, $ p_k $ que deve somar 1. Nosso objetivo é encontrar $ p_ \\text {leões} $, $ p_ \\text{tigres} $, $ p_ \\text{ursos} $ dadas as observações $c_{leões}= 3$, $c_{tigres}= 2$ e $c_{ursos}= 1$."
   ]
  },
  {
   "cell_type": "markdown",
   "metadata": {
    "id": "Em51Vjm4Yoma"
   },
   "source": [
    "**Distribuição Dirichlet**\n",
    "\n",
    "Uma distribuição multinomial com uma priori Dirichlet é chamada de modelo Dirichlet-Multinomial. A distribuição de Dirichlet é caracterizada por $ \\alpha $, o vetor dos hiperparâmetros de concentração."
   ]
  },
  {
   "cell_type": "markdown",
   "metadata": {
    "id": "UUbMYUZ7Yoma"
   },
   "source": [
    "**Hiperparâmetros**\n",
    "\n",
    "O vetor $\\alpha $ é o hiperparâmetro, um parâmetro de uma distribuição a priori. \n",
    "\n",
    "O vetor hiperparâmetro pode ser considerado como pseudo-contagens, que usamos para mostrar nossa crença a priori para a prevalência de cada espécie. Se quisermos um hiperparâmetro uniforme refletindo que acreditamos que a chance de observar qualquer espécie é a mesma, definimos cada elemento de alfa igual, como $ \\alpha = [1, 1, 1] $. Podemos aumentar ou diminuir o efeito das a prioris aumentando ou diminuindo os valores. Isso pode ser útil quando temos mais ou menos confiança em nossas crenças a prioris. \n"
   ]
  },
  {
   "cell_type": "markdown",
   "metadata": {
    "id": "aWN3lPqAZZ_k"
   },
   "source": [
    "Instale os pacotes abaixo se necessário."
   ]
  },
  {
   "cell_type": "code",
   "execution_count": null,
   "metadata": {
    "id": "qLywSI6GYoma"
   },
   "outputs": [],
   "source": [
    "#!pip install pymc3==3.11.1"
   ]
  },
  {
   "cell_type": "code",
   "execution_count": null,
   "metadata": {
    "id": "cozhjRNmYomb"
   },
   "outputs": [],
   "source": [
    "#!pip show pymc3"
   ]
  },
  {
   "cell_type": "code",
   "execution_count": 2,
   "metadata": {
    "id": "gdN-bnnxYomb"
   },
   "outputs": [
    {
     "name": "stdout",
     "output_type": "stream",
     "text": [
      "Collecting utils==1.0.1\n",
      "  Downloading utils-1.0.1-py2.py3-none-any.whl (21 kB)\n",
      "Installing collected packages: utils\n",
      "Successfully installed utils-1.0.1\n"
     ]
    }
   ],
   "source": [
    "# !pip install utils==1.0.1"
   ]
  },
  {
   "cell_type": "code",
   "execution_count": 1,
   "metadata": {
    "id": "wQybYzKQYomb"
   },
   "outputs": [
    {
     "name": "stdout",
     "output_type": "stream",
     "text": [
      "Name: utils\n",
      "Version: 1.0.1\n",
      "Summary: A grab-bag of utility functions and objects\n",
      "Home-page: http://github.com/haaksmash/pyutils\n",
      "Author: Haak Saxberg\n",
      "Author-email: haak.erling@gmail.com\n",
      "License: UNKNOWN\n",
      "Location: c:\\users\\joaop\\anaconda3\\lib\\site-packages\n",
      "Requires: \n",
      "Required-by: \n"
     ]
    }
   ],
   "source": [
    "# !pip show utils"
   ]
  },
  {
   "cell_type": "code",
   "execution_count": null,
   "metadata": {
    "id": "74HLuI8KYomb"
   },
   "outputs": [],
   "source": [
    "#!pip install arviz==0.11.2"
   ]
  },
  {
   "cell_type": "code",
   "execution_count": null,
   "metadata": {
    "id": "1NGMIikNYomc"
   },
   "outputs": [],
   "source": [
    "#!pip show arviz"
   ]
  },
  {
   "cell_type": "code",
   "execution_count": 4,
   "metadata": {
    "id": "9E17eiBrYomc"
   },
   "outputs": [],
   "source": [
    "import pandas as pd\n",
    "import numpy as np\n",
    "import arviz as az\n",
    "\n",
    "\n",
    "# Visualizations\n",
    "import matplotlib.pyplot as plt\n",
    "import seaborn as sns\n",
    "plt.style.use('fivethirtyeight')\n",
    "plt.rcParams['font.size'] = 22\n",
    "%matplotlib inline\n",
    "\n",
    "from matplotlib import MatplotlibDeprecationWarning\n",
    "\n",
    "import warnings\n",
    "warnings.filterwarnings('ignore', category=FutureWarning)\n",
    "warnings.filterwarnings('ignore', category=MatplotlibDeprecationWarning)\n",
    "\n",
    "import pymc3 as pm"
   ]
  },
  {
   "cell_type": "code",
   "execution_count": 7,
   "metadata": {
    "id": "9E17eiBrYomc"
   },
   "outputs": [],
   "source": [
    "# Helper functions (arquivo .py existente na pasta de trabalho)\n",
    "from plot_utils import draw_pdf_contours, Dirichlet, plot_points, annotate_plot, add_legend, display_probs"
   ]
  },
  {
   "cell_type": "markdown",
   "metadata": {
    "id": "r_BIP_MsYomc"
   },
   "source": [
    "## Especificidades do problema\n",
    "\n",
    "Usaremos principalmente uma versão dos hiperparâmetros, $ \\alpha = [1, 1, 1] $, que são os parâmetros da Dirichlet. Teste outros valores para ver como isso muda a solução do problema. Lembre-se que alterar os hiperparâmetros é inserir conhecimentos diferentes a respeito das distribuições a priori."
   ]
  },
  {
   "cell_type": "code",
   "execution_count": 5,
   "metadata": {
    "id": "ry72MkLPYomc"
   },
   "outputs": [],
   "source": [
    "# observations\n",
    "animals = ['lions', 'tigers', 'bears']\n",
    "c = np.array([3, 2, 1])\n",
    "\n",
    "# hyperparameters (initially all equal)\n",
    "alphas = np.array([1, 1, 1])\n",
    "\n",
    "alpha_list = [np.array([0.1, 0.1, 0.1]), np.array([1, 1, 1]),\n",
    "                    np.array([5, 5, 5]), np.array([15, 15, 15])]"
   ]
  },
  {
   "cell_type": "markdown",
   "metadata": {
    "id": "G-9rlcrMYomd"
   },
   "source": [
    "## Expected Value\n",
    "\n",
    "Fonte: http://users.cecs.anu.edu.au/~ssanner/MLSS2010/Johnson1.pdf\n",
    "\n",
    "\n",
    "Uma maneira de obter uma estimativa pontual da prevalência é usar o valor esperado da posteriori para $ p_k $. O valor esperado de uma Distribuição Multinomial de Dirichlet é:\n",
    "$${\\displaystyle \\operatorname {E} [p_{i}\\mid \\mathbb {X} ,{\\boldsymbol {\\alpha }}]={\\frac {c_{i}+\\alpha _{i}}{N+\\sum _{k}\\alpha _{k}}}}$$\n"
   ]
  },
  {
   "cell_type": "code",
   "execution_count": 8,
   "metadata": {
    "id": "EFpmTaoZYome",
    "outputId": "f9ef9eb5-8b2a-4018-a8c0-492657f02715"
   },
   "outputs": [
    {
     "name": "stdout",
     "output_type": "stream",
     "text": [
      "Species: lions    Prevalence: 44.44%.\n",
      "Species: tigers   Prevalence: 33.33%.\n",
      "Species: bears    Prevalence: 22.22%.\n"
     ]
    }
   ],
   "source": [
    "display_probs(dict(zip(animals, (alphas + c) / (c.sum() + alphas.sum()))))"
   ]
  },
  {
   "cell_type": "markdown",
   "metadata": {
    "id": "0KU7GZK8Yome"
   },
   "source": [
    "## Modelo Bayesiano\n",
    "Usaremos o PYMC3 e parâmetro $\\alpha = [1, 1, 1]$ para a priori.\n",
    "A verossimilhança é multinomial e a priori para os parâmetros é Dirichlet."
   ]
  },
  {
   "cell_type": "code",
   "execution_count": 9,
   "metadata": {
    "id": "1aLTW3rGYomf"
   },
   "outputs": [],
   "source": [
    "with pm.Model() as model:\n",
    "    # Parameters of the Multinomial are from a Dirichlet\n",
    "    parameters = pm.Dirichlet('parameters', a=alphas, shape=3)\n",
    "    # Observed data is from a Multinomial distribution\n",
    "    observed_data = pm.Multinomial(\n",
    "        'observed_data', n=6, p=parameters, shape=3, observed=c)"
   ]
  },
  {
   "cell_type": "markdown",
   "metadata": {
    "id": "sfRHpRbQYomf"
   },
   "source": [
    "## Amostrando do modelo\n",
    "\n",
    "A célula abaixo mostra 1000 amostras da posteriori em 2 cadeias. Usamos 500 amostras para ajuste que são descartadas. Isso significa que para cada variável aleatória do modelo - os parâmetros - teremos 2.000 valores retirados da distribuição posterior.\n"
   ]
  },
  {
   "cell_type": "code",
   "execution_count": 10,
   "metadata": {
    "id": "7zjw0pesYomf",
    "outputId": "18cba8da-1a7f-423e-c06c-36a8f049933f"
   },
   "outputs": [
    {
     "name": "stderr",
     "output_type": "stream",
     "text": [
      "Auto-assigning NUTS sampler...\n",
      "Initializing NUTS using jitter+adapt_diag...\n",
      "Multiprocess sampling (2 chains in 4 jobs)\n",
      "NUTS: [parameters]\n"
     ]
    },
    {
     "data": {
      "text/html": [
       "\n",
       "    <div>\n",
       "        <style>\n",
       "            /* Turns off some styling */\n",
       "            progress {\n",
       "                /* gets rid of default border in Firefox and Opera. */\n",
       "                border: none;\n",
       "                /* Needs to be in here for Safari polyfill so background images work as expected. */\n",
       "                background-size: auto;\n",
       "            }\n",
       "            .progress-bar-interrupted, .progress-bar-interrupted::-webkit-progress-bar {\n",
       "                background: #F44336;\n",
       "            }\n",
       "        </style>\n",
       "      <progress value='3000' class='' max='3000' style='width:300px; height:20px; vertical-align: middle;'></progress>\n",
       "      100.00% [3000/3000 00:07<00:00 Sampling 2 chains, 0 divergences]\n",
       "    </div>\n",
       "    "
      ],
      "text/plain": [
       "<IPython.core.display.HTML object>"
      ]
     },
     "metadata": {},
     "output_type": "display_data"
    },
    {
     "name": "stderr",
     "output_type": "stream",
     "text": [
      "Sampling 2 chains for 500 tune and 1_000 draw iterations (1_000 + 2_000 draws total) took 43 seconds.\n"
     ]
    }
   ],
   "source": [
    "with model:\n",
    "    # Sample from the posterior\n",
    "    trace = pm.sample(draws=1000, chains=2, tune=500, \n",
    "                      discard_tuned_samples=True)"
   ]
  },
  {
   "cell_type": "markdown",
   "metadata": {
    "id": "cSc1vxq6Yomg"
   },
   "source": [
    "## Inspecionando os resultados\n",
    "\n",
    "Análise dos resultados com PYMC3:\n"
   ]
  },
  {
   "cell_type": "code",
   "execution_count": 13,
   "metadata": {
    "id": "u5VnYX77Yomg",
    "outputId": "04650ea5-fba6-44ae-9cba-bab882b4c3e3"
   },
   "outputs": [
    {
     "data": {
      "text/html": [
       "<div>\n",
       "<style scoped>\n",
       "    .dataframe tbody tr th:only-of-type {\n",
       "        vertical-align: middle;\n",
       "    }\n",
       "\n",
       "    .dataframe tbody tr th {\n",
       "        vertical-align: top;\n",
       "    }\n",
       "\n",
       "    .dataframe thead th {\n",
       "        text-align: right;\n",
       "    }\n",
       "</style>\n",
       "<table border=\"1\" class=\"dataframe\">\n",
       "  <thead>\n",
       "    <tr style=\"text-align: right;\">\n",
       "      <th></th>\n",
       "      <th>mean</th>\n",
       "      <th>sd</th>\n",
       "      <th>hdi_3%</th>\n",
       "      <th>hdi_97%</th>\n",
       "      <th>mcse_mean</th>\n",
       "      <th>mcse_sd</th>\n",
       "      <th>ess_bulk</th>\n",
       "      <th>ess_tail</th>\n",
       "      <th>r_hat</th>\n",
       "    </tr>\n",
       "  </thead>\n",
       "  <tbody>\n",
       "    <tr>\n",
       "      <th>lions</th>\n",
       "      <td>0.437</td>\n",
       "      <td>0.159</td>\n",
       "      <td>0.161</td>\n",
       "      <td>0.733</td>\n",
       "      <td>0.004</td>\n",
       "      <td>0.003</td>\n",
       "      <td>1246.0</td>\n",
       "      <td>1020.0</td>\n",
       "      <td>1.0</td>\n",
       "    </tr>\n",
       "    <tr>\n",
       "      <th>tigers</th>\n",
       "      <td>0.338</td>\n",
       "      <td>0.151</td>\n",
       "      <td>0.069</td>\n",
       "      <td>0.603</td>\n",
       "      <td>0.004</td>\n",
       "      <td>0.003</td>\n",
       "      <td>1302.0</td>\n",
       "      <td>1067.0</td>\n",
       "      <td>1.0</td>\n",
       "    </tr>\n",
       "    <tr>\n",
       "      <th>bears</th>\n",
       "      <td>0.225</td>\n",
       "      <td>0.133</td>\n",
       "      <td>0.013</td>\n",
       "      <td>0.463</td>\n",
       "      <td>0.003</td>\n",
       "      <td>0.002</td>\n",
       "      <td>1534.0</td>\n",
       "      <td>1336.0</td>\n",
       "      <td>1.0</td>\n",
       "    </tr>\n",
       "  </tbody>\n",
       "</table>\n",
       "</div>"
      ],
      "text/plain": [
       "         mean     sd  hdi_3%  hdi_97%  mcse_mean  mcse_sd  ess_bulk  ess_tail  \\\n",
       "lions   0.437  0.159   0.161    0.733      0.004    0.003    1246.0    1020.0   \n",
       "tigers  0.338  0.151   0.069    0.603      0.004    0.003    1302.0    1067.0   \n",
       "bears   0.225  0.133   0.013    0.463      0.003    0.002    1534.0    1336.0   \n",
       "\n",
       "        r_hat  \n",
       "lions     1.0  \n",
       "tigers    1.0  \n",
       "bears     1.0  "
      ]
     },
     "execution_count": 13,
     "metadata": {},
     "output_type": "execute_result"
    }
   ],
   "source": [
    "summary = az.summary(trace)\n",
    "summary.index = animals\n",
    "summary"
   ]
  },
  {
   "cell_type": "code",
   "execution_count": 15,
   "metadata": {
    "id": "9lxrgmnTYomg",
    "outputId": "b4e852ee-a924-4e54-a2fb-2ed44be387df"
   },
   "outputs": [
    {
     "name": "stdout",
     "output_type": "stream",
     "text": [
      "(2000, 3)\n"
     ]
    },
    {
     "data": {
      "text/html": [
       "<div>\n",
       "<style scoped>\n",
       "    .dataframe tbody tr th:only-of-type {\n",
       "        vertical-align: middle;\n",
       "    }\n",
       "\n",
       "    .dataframe tbody tr th {\n",
       "        vertical-align: top;\n",
       "    }\n",
       "\n",
       "    .dataframe thead th {\n",
       "        text-align: right;\n",
       "    }\n",
       "</style>\n",
       "<table border=\"1\" class=\"dataframe\">\n",
       "  <thead>\n",
       "    <tr style=\"text-align: right;\">\n",
       "      <th></th>\n",
       "      <th>lions</th>\n",
       "      <th>tigers</th>\n",
       "      <th>bears</th>\n",
       "    </tr>\n",
       "  </thead>\n",
       "  <tbody>\n",
       "    <tr>\n",
       "      <th>0</th>\n",
       "      <td>0.450410</td>\n",
       "      <td>0.413250</td>\n",
       "      <td>0.136340</td>\n",
       "    </tr>\n",
       "    <tr>\n",
       "      <th>1</th>\n",
       "      <td>0.318291</td>\n",
       "      <td>0.337079</td>\n",
       "      <td>0.344631</td>\n",
       "    </tr>\n",
       "    <tr>\n",
       "      <th>2</th>\n",
       "      <td>0.209718</td>\n",
       "      <td>0.640427</td>\n",
       "      <td>0.149855</td>\n",
       "    </tr>\n",
       "    <tr>\n",
       "      <th>3</th>\n",
       "      <td>0.251572</td>\n",
       "      <td>0.544913</td>\n",
       "      <td>0.203516</td>\n",
       "    </tr>\n",
       "    <tr>\n",
       "      <th>4</th>\n",
       "      <td>0.239865</td>\n",
       "      <td>0.520635</td>\n",
       "      <td>0.239500</td>\n",
       "    </tr>\n",
       "  </tbody>\n",
       "</table>\n",
       "</div>"
      ],
      "text/plain": [
       "      lions    tigers     bears\n",
       "0  0.450410  0.413250  0.136340\n",
       "1  0.318291  0.337079  0.344631\n",
       "2  0.209718  0.640427  0.149855\n",
       "3  0.251572  0.544913  0.203516\n",
       "4  0.239865  0.520635  0.239500"
      ]
     },
     "execution_count": 15,
     "metadata": {},
     "output_type": "execute_result"
    }
   ],
   "source": [
    "\n",
    "# Samples\n",
    "trace_df = pd.DataFrame(trace['parameters'], columns = animals)\n",
    "print(trace_df.shape)\n",
    "trace_df.head()"
   ]
  },
  {
   "cell_type": "markdown",
   "metadata": {
    "id": "OFybFJG5Yomg"
   },
   "source": [
    "Podemos perceber que a média das amostras está muito próxima do valor esperado, mas também devemos observar asestimativas intervalares."
   ]
  },
  {
   "cell_type": "code",
   "execution_count": 16,
   "metadata": {
    "id": "b03zNCaHYomh",
    "outputId": "bebfce9b-ce51-47a0-bb93-636d9183f09f"
   },
   "outputs": [
    {
     "name": "stdout",
     "output_type": "stream",
     "text": [
      "Species: lions    Prevalence: 43.73%.\n",
      "Species: tigers   Prevalence: 33.75%.\n",
      "Species: bears    Prevalence: 22.52%.\n"
     ]
    }
   ],
   "source": [
    "# For probabilities use samples after burn in\n",
    "pvals = trace_df.iloc[:, :3].mean(axis = 0)\n",
    "display_probs(dict(zip(animals, pvals)))"
   ]
  },
  {
   "cell_type": "markdown",
   "metadata": {
    "id": "2AYJRx2eYomh"
   },
   "source": [
    "## Gráficos de diagnóstico\n"
   ]
  },
  {
   "cell_type": "code",
   "execution_count": 17,
   "metadata": {
    "id": "uv4AE6mXYomh",
    "outputId": "fb2a3abe-bbe1-435f-8873-69df539f59b1"
   },
   "outputs": [
    {
     "data": {
      "image/png": "[encoded data removed]",
      "text/plain": [
       "<Figure size 1440x720 with 3 Axes>"
      ]
     },
     "metadata": {
      "needs_background": "light"
     },
     "output_type": "display_data"
    }
   ],
   "source": [
    "#ax = pm.plot_posterior(trace, varnames = ['parameters'], \n",
    "                       #figsize = (20, 10), edgecolor = 'k');\n",
    "\n",
    "ax = az.plot_posterior(trace, figsize = (20, 10));\n",
    "\n",
    "\n",
    "plt.rcParams['font.size'] = 22\n",
    "for i, a in enumerate(animals):\n",
    "    ax[i].set_title(a);"
   ]
  },
  {
   "cell_type": "markdown",
   "metadata": {
    "id": "lZn-UuIBYomh"
   },
   "source": [
    "## Traceplot\n",
    "\n",
    "The traceplot shows a kernel density estimate (a smoothed histogram) on the left and all the samples that were drawn on the right. We collapse the chains on th plots (combined = True) but in reality we drew 2 independent chains.\n"
   ]
  },
  {
   "cell_type": "markdown",
   "metadata": {
    "id": "rQPHnUIsYomh"
   },
   "source": [
    "## Máximo a Posteriori usando PyMC3\n",
    "\n"
   ]
  },
  {
   "cell_type": "code",
   "execution_count": 18,
   "metadata": {
    "id": "h4DnpeeaYomi",
    "outputId": "3eafae8d-d5d8-409f-cc8a-c8475c6f5555"
   },
   "outputs": [
    {
     "data": {
      "text/html": [
       "\n",
       "    <div>\n",
       "        <style>\n",
       "            /* Turns off some styling */\n",
       "            progress {\n",
       "                /* gets rid of default border in Firefox and Opera. */\n",
       "                border: none;\n",
       "                /* Needs to be in here for Safari polyfill so background images work as expected. */\n",
       "                background-size: auto;\n",
       "            }\n",
       "            .progress-bar-interrupted, .progress-bar-interrupted::-webkit-progress-bar {\n",
       "                background: #F44336;\n",
       "            }\n",
       "        </style>\n",
       "      <progress value='9' class='' max='9' style='width:300px; height:20px; vertical-align: middle;'></progress>\n",
       "      100.00% [9/9 00:00<00:00 logp = -1.8042, ||grad|| = 2.2361]\n",
       "    </div>\n",
       "    "
      ],
      "text/plain": [
       "<IPython.core.display.HTML object>"
      ]
     },
     "metadata": {},
     "output_type": "display_data"
    },
    {
     "name": "stdout",
     "output_type": "stream",
     "text": [
      "\n",
      "Species: lions    Prevalence: 50.00%.\n",
      "Species: tigers   Prevalence: 33.33%.\n",
      "Species: bears    Prevalence: 16.67%.\n"
     ]
    }
   ],
   "source": [
    "with model:\n",
    "    # Find the maximum a posteriori estimate\n",
    "    map_ = pm.find_MAP()\n",
    "    \n",
    "display_probs(dict(zip(animals, map_['parameters'])))\n",
    "\n"
   ]
  },
  {
   "cell_type": "markdown",
   "metadata": {
    "id": "dy_kRI-QYomk"
   },
   "source": [
    "## Próxima observação\n",
    "\n",
    "Para predizer uma próxima observação, extraímos uma única amostra 10.000 vezes de uma distribuição multinomial. A probabilidade de ver cada espécie é proporcional à obtida na amostragem.\n"
   ]
  },
  {
   "cell_type": "code",
   "execution_count": 19,
   "metadata": {
    "id": "cPd_vdEbYomk",
    "outputId": "f8c66069-83bc-41d9-b361-a3dc57a34e24"
   },
   "outputs": [
    {
     "data": {
      "image/png": "[encoded data removed]",
      "text/plain": [
       "<Figure size 576x432 with 1 Axes>"
      ]
     },
     "metadata": {
      "needs_background": "light"
     },
     "output_type": "display_data"
    }
   ],
   "source": [
    "# Draw from the multinomial\n",
    "next_obs = np.random.multinomial(n = 1, pvals = pvals, size = 10000)\n",
    "\n",
    "# Data manipulation\n",
    "next_obs = pd.melt(pd.DataFrame(next_obs, columns = ['Lions', 'Tigers', 'Bears'])).\\\n",
    "            groupby('variable')['value'].\\\n",
    "            value_counts(normalize=True).to_frame().\\\n",
    "             rename(columns = {'value': 'total'}).reset_index()\n",
    "next_obs = next_obs.loc[next_obs['value'] == 1]\n",
    "\n",
    "# Bar plot\n",
    "next_obs.set_index('variable')['total'].plot.bar(figsize = (8, 6));\n",
    "plt.title('Next Observation Likelihood');\n",
    "plt.ylabel('Likelihood'); plt.xlabel('');"
   ]
  },
  {
   "cell_type": "code",
   "execution_count": 20,
   "metadata": {
    "id": "6gyVEjR2Yomk",
    "outputId": "5db4bf6a-52b5-4488-e5ec-19babce553d5"
   },
   "outputs": [
    {
     "data": {
      "text/html": [
       "<div>\n",
       "<style scoped>\n",
       "    .dataframe tbody tr th:only-of-type {\n",
       "        vertical-align: middle;\n",
       "    }\n",
       "\n",
       "    .dataframe tbody tr th {\n",
       "        vertical-align: top;\n",
       "    }\n",
       "\n",
       "    .dataframe thead th {\n",
       "        text-align: right;\n",
       "    }\n",
       "</style>\n",
       "<table border=\"1\" class=\"dataframe\">\n",
       "  <thead>\n",
       "    <tr style=\"text-align: right;\">\n",
       "      <th></th>\n",
       "      <th>variable</th>\n",
       "      <th>total</th>\n",
       "    </tr>\n",
       "  </thead>\n",
       "  <tbody>\n",
       "    <tr>\n",
       "      <th>1</th>\n",
       "      <td>Bears</td>\n",
       "      <td>0.2201</td>\n",
       "    </tr>\n",
       "    <tr>\n",
       "      <th>3</th>\n",
       "      <td>Lions</td>\n",
       "      <td>0.4422</td>\n",
       "    </tr>\n",
       "    <tr>\n",
       "      <th>5</th>\n",
       "      <td>Tigers</td>\n",
       "      <td>0.3377</td>\n",
       "    </tr>\n",
       "  </tbody>\n",
       "</table>\n",
       "</div>"
      ],
      "text/plain": [
       "  variable   total\n",
       "1    Bears  0.2201\n",
       "3    Lions  0.4422\n",
       "5   Tigers  0.3377"
      ]
     },
     "execution_count": 20,
     "metadata": {},
     "output_type": "execute_result"
    }
   ],
   "source": [
    "next_obs.iloc[:, [0, 2]]"
   ]
  },
  {
   "cell_type": "markdown",
   "metadata": {
    "id": "fxwW-Gz7Yoml"
   },
   "source": [
    "(Veja mais análises em  https://github.com/WillKoehrsen/probabilistic-programming/blob/master/Estimating%20Probabilities%20with%20Bayesian%20Inference.ipynb)"
   ]
  },
  {
   "cell_type": "markdown",
   "metadata": {
    "id": "ju7MwoXHYoml"
   },
   "source": [
    "Se você tivesse que fazer uma previsão de qual seria o próximo animal observado, qual você escolheria?"
   ]
  },
  {
   "cell_type": "markdown",
   "metadata": {
    "id": "WDrxis4zYoml"
   },
   "source": [
    "Altere os hiperparâmetros para $\\alpha = [0.1, 0.1, 0.1]$ e $\\alpha = [15, 15, 15]$ e compare os resultados obtidos."
   ]
  },
  {
   "cell_type": "markdown",
   "metadata": {},
   "source": [
    "### Próxima observação para $\\alpha = [0.1, 0.1, 0.1],  [1, 1, 1],  [5, 5, 5]  e  [15, 15, 15]$"
   ]
  },
  {
   "cell_type": "code",
   "execution_count": 34,
   "metadata": {},
   "outputs": [
    {
     "name": "stderr",
     "output_type": "stream",
     "text": [
      "Auto-assigning NUTS sampler...\n",
      "Initializing NUTS using jitter+adapt_diag...\n",
      "Multiprocess sampling (2 chains in 4 jobs)\n",
      "NUTS: [parameters]\n"
     ]
    },
    {
     "data": {
      "text/html": [
       "\n",
       "    <div>\n",
       "        <style>\n",
       "            /* Turns off some styling */\n",
       "            progress {\n",
       "                /* gets rid of default border in Firefox and Opera. */\n",
       "                border: none;\n",
       "                /* Needs to be in here for Safari polyfill so background images work as expected. */\n",
       "                background-size: auto;\n",
       "            }\n",
       "            .progress-bar-interrupted, .progress-bar-interrupted::-webkit-progress-bar {\n",
       "                background: #F44336;\n",
       "            }\n",
       "        </style>\n",
       "      <progress value='3000' class='' max='3000' style='width:300px; height:20px; vertical-align: middle;'></progress>\n",
       "      100.00% [3000/3000 00:03<00:00 Sampling 2 chains, 0 divergences]\n",
       "    </div>\n",
       "    "
      ],
      "text/plain": [
       "<IPython.core.display.HTML object>"
      ]
     },
     "metadata": {},
     "output_type": "display_data"
    },
    {
     "name": "stderr",
     "output_type": "stream",
     "text": [
      "Sampling 2 chains for 500 tune and 1_000 draw iterations (1_000 + 2_000 draws total) took 24 seconds.\n"
     ]
    },
    {
     "name": "stdout",
     "output_type": "stream",
     "text": [
      "Next Observation Likelihood - alpha for priori= [0.1 0.1 0.1]\n",
      "  variable   total\n",
      "1    Bears  0.1720\n",
      "3    Lions  0.4928\n",
      "5   Tigers  0.3352\n"
     ]
    },
    {
     "name": "stderr",
     "output_type": "stream",
     "text": [
      "Auto-assigning NUTS sampler...\n",
      "Initializing NUTS using jitter+adapt_diag...\n",
      "Multiprocess sampling (2 chains in 4 jobs)\n",
      "NUTS: [parameters]\n"
     ]
    },
    {
     "data": {
      "text/html": [
       "\n",
       "    <div>\n",
       "        <style>\n",
       "            /* Turns off some styling */\n",
       "            progress {\n",
       "                /* gets rid of default border in Firefox and Opera. */\n",
       "                border: none;\n",
       "                /* Needs to be in here for Safari polyfill so background images work as expected. */\n",
       "                background-size: auto;\n",
       "            }\n",
       "            .progress-bar-interrupted, .progress-bar-interrupted::-webkit-progress-bar {\n",
       "                background: #F44336;\n",
       "            }\n",
       "        </style>\n",
       "      <progress value='3000' class='' max='3000' style='width:300px; height:20px; vertical-align: middle;'></progress>\n",
       "      100.00% [3000/3000 00:03<00:00 Sampling 2 chains, 0 divergences]\n",
       "    </div>\n",
       "    "
      ],
      "text/plain": [
       "<IPython.core.display.HTML object>"
      ]
     },
     "metadata": {},
     "output_type": "display_data"
    },
    {
     "name": "stderr",
     "output_type": "stream",
     "text": [
      "Sampling 2 chains for 500 tune and 1_000 draw iterations (1_000 + 2_000 draws total) took 22 seconds.\n"
     ]
    },
    {
     "name": "stdout",
     "output_type": "stream",
     "text": [
      "Next Observation Likelihood - alpha for priori= [1 1 1]\n",
      "  variable   total\n",
      "1    Bears  0.2171\n",
      "3    Lions  0.4490\n",
      "5   Tigers  0.3339\n"
     ]
    },
    {
     "name": "stderr",
     "output_type": "stream",
     "text": [
      "Auto-assigning NUTS sampler...\n",
      "Initializing NUTS using jitter+adapt_diag...\n",
      "Multiprocess sampling (2 chains in 4 jobs)\n",
      "NUTS: [parameters]\n"
     ]
    },
    {
     "data": {
      "text/html": [
       "\n",
       "    <div>\n",
       "        <style>\n",
       "            /* Turns off some styling */\n",
       "            progress {\n",
       "                /* gets rid of default border in Firefox and Opera. */\n",
       "                border: none;\n",
       "                /* Needs to be in here for Safari polyfill so background images work as expected. */\n",
       "                background-size: auto;\n",
       "            }\n",
       "            .progress-bar-interrupted, .progress-bar-interrupted::-webkit-progress-bar {\n",
       "                background: #F44336;\n",
       "            }\n",
       "        </style>\n",
       "      <progress value='3000' class='' max='3000' style='width:300px; height:20px; vertical-align: middle;'></progress>\n",
       "      100.00% [3000/3000 00:03<00:00 Sampling 2 chains, 0 divergences]\n",
       "    </div>\n",
       "    "
      ],
      "text/plain": [
       "<IPython.core.display.HTML object>"
      ]
     },
     "metadata": {},
     "output_type": "display_data"
    },
    {
     "name": "stderr",
     "output_type": "stream",
     "text": [
      "Sampling 2 chains for 500 tune and 1_000 draw iterations (1_000 + 2_000 draws total) took 22 seconds.\n",
      "The acceptance probability does not match the target. It is 0.8828635579818453, but should be close to 0.8. Try to increase the number of tuning steps.\n"
     ]
    },
    {
     "name": "stdout",
     "output_type": "stream",
     "text": [
      "Next Observation Likelihood - alpha for priori= [5 5 5]\n",
      "  variable   total\n",
      "1    Bears  0.2872\n",
      "3    Lions  0.3824\n",
      "5   Tigers  0.3304\n"
     ]
    },
    {
     "name": "stderr",
     "output_type": "stream",
     "text": [
      "Auto-assigning NUTS sampler...\n",
      "Initializing NUTS using jitter+adapt_diag...\n",
      "Multiprocess sampling (2 chains in 4 jobs)\n",
      "NUTS: [parameters]\n"
     ]
    },
    {
     "data": {
      "text/html": [
       "\n",
       "    <div>\n",
       "        <style>\n",
       "            /* Turns off some styling */\n",
       "            progress {\n",
       "                /* gets rid of default border in Firefox and Opera. */\n",
       "                border: none;\n",
       "                /* Needs to be in here for Safari polyfill so background images work as expected. */\n",
       "                background-size: auto;\n",
       "            }\n",
       "            .progress-bar-interrupted, .progress-bar-interrupted::-webkit-progress-bar {\n",
       "                background: #F44336;\n",
       "            }\n",
       "        </style>\n",
       "      <progress value='3000' class='' max='3000' style='width:300px; height:20px; vertical-align: middle;'></progress>\n",
       "      100.00% [3000/3000 00:03<00:00 Sampling 2 chains, 0 divergences]\n",
       "    </div>\n",
       "    "
      ],
      "text/plain": [
       "<IPython.core.display.HTML object>"
      ]
     },
     "metadata": {},
     "output_type": "display_data"
    },
    {
     "name": "stderr",
     "output_type": "stream",
     "text": [
      "Sampling 2 chains for 500 tune and 1_000 draw iterations (1_000 + 2_000 draws total) took 22 seconds.\n",
      "The acceptance probability does not match the target. It is 0.891244667640618, but should be close to 0.8. Try to increase the number of tuning steps.\n"
     ]
    },
    {
     "name": "stdout",
     "output_type": "stream",
     "text": [
      "Next Observation Likelihood - alpha for priori= [15 15 15]\n",
      "  variable   total\n",
      "1    Bears  0.3113\n",
      "3    Lions  0.3660\n",
      "5   Tigers  0.3227\n"
     ]
    }
   ],
   "source": [
    "# Usando o modelo bayesiano com o PYMC3 e variando os parâmetros 𝛼  para a priori\n",
    "# A verossimilhança é multinomial e a priori para os parâmetros é Dirichlet.\n",
    "\n",
    "alpha_list = [np.array([0.1, 0.1, 0.1]), np.array([1, 1, 1]),\n",
    "                    np.array([5, 5, 5]), np.array([15, 15, 15])]\n",
    "\n",
    "for i in range(0,4):\n",
    "    with pm.Model() as model:\n",
    "        parameters = pm.Dirichlet('parameters', a=alpha_list[i], shape=3) # Params of the priori Multinomial/Dirichlet func\n",
    "        observed_data = pm.Multinomial('observed_data', n=6, p=parameters, shape=3, observed=c) # Veross.Multinomial\n",
    "    with model:\n",
    "        trace = pm.sample(draws=1000, chains=2, tune=500, discard_tuned_samples=True)   # Posteriori with Sample=1000\n",
    "    \n",
    "    trace_df = pd.DataFrame(trace['parameters'], columns = animals) # Samples\n",
    "    pvals = trace_df.iloc[:, :3].mean(axis = 0)                     # For probabilities use samples after burn in\n",
    "    next_obs = np.random.multinomial(n = 1, pvals = pvals, size = 10000) # Next observation Draw from the multinomial\n",
    "\n",
    "    # Data manipulation\n",
    "    next_obs = pd.melt(pd.DataFrame(next_obs, columns = ['Lions', 'Tigers', 'Bears'])).\\\n",
    "               groupby('variable')['value'].\\\n",
    "               value_counts(normalize=True).to_frame().\\\n",
    "               rename(columns = {'value': 'total'}).reset_index()\n",
    "    next_obs = next_obs.loc[next_obs['value'] == 1]\n",
    "\n",
    "    print('Next Observation Likelihood - alpha for priori=', alpha_list[i])\n",
    "    print(next_obs.iloc[:, [0, 2]])"
   ]
  },
  {
   "cell_type": "markdown",
   "metadata": {},
   "source": [
    "##### Análise:<br>\n",
    "Quanto maior alpha, maior a força da priori e portanto as probabilidades tendem a se igualar.<br>\n",
    "Quanto menor alpha, menor a força da priori e portanto as probabilidades tendem a se igualar à primeira observação.<br>"
   ]
  },
  {
   "cell_type": "code",
   "execution_count": null,
   "metadata": {},
   "outputs": [],
   "source": []
  }
 ],
 "metadata": {
  "colab": {
   "collapsed_sections": [],
   "name": "ECD-06-Prática2.ipynb",
   "provenance": []
  },
  "kernelspec": {
   "display_name": "Python 3",
   "language": "python",
   "name": "python3"
  },
  "language_info": {
   "codemirror_mode": {
    "name": "ipython",
    "version": 3
   },
   "file_extension": ".py",
   "mimetype": "text/x-python",
   "name": "python",
   "nbconvert_exporter": "python",
   "pygments_lexer": "ipython3",
   "version": "3.8.10"
  }
 },
 "nbformat": 4,
 "nbformat_minor": 1
}
