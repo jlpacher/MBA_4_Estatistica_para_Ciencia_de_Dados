{
 "cells": [
  {
   "cell_type": "markdown",
   "metadata": {},
   "source": [
    "# Aula 2: Probabilidades"
   ]
  },
  {
   "cell_type": "markdown",
   "metadata": {},
   "source": [
    "Vamos simular alguns problemas que vimos na aula."
   ]
  },
  {
   "cell_type": "markdown",
   "metadata": {},
   "source": [
    "Lançamento de uma moeda justa."
   ]
  },
  {
   "cell_type": "code",
   "execution_count": 1,
   "metadata": {},
   "outputs": [
    {
     "data": {
      "image/png": "[encoded data removed]",
      "text/plain": [
       "<Figure size 576x432 with 1 Axes>"
      ]
     },
     "metadata": {
      "needs_background": "light"
     },
     "output_type": "display_data"
    }
   ],
   "source": [
    "import random\n",
    "import numpy as np\n",
    "import matplotlib.pyplot as plt\n",
    "%matplotlib inline\n",
    "\n",
    "\n",
    "vp = [] # lista que armazena a fração de ocorrências em função do número de simulações\n",
    "vsim = [] # armazena o número de simulações\n",
    "Nmax = 1000 # numero maximo de simulacoes\n",
    "moeda = ['C','R']\n",
    "for nsim in np.arange(1,Nmax):\n",
    "    nhead = 0 # numero de caras\n",
    "    for i in range(1,nsim):\n",
    "        face = random.choice(moeda)\n",
    "        if(face == 'C'):\n",
    "            nhead = nhead + 1 \n",
    "    vp.append(nhead/nsim)\n",
    "    vsim.append(nsim)\n",
    "\n",
    "plt.figure(figsize=(8,6))\n",
    "plt.plot(vsim, vp, linestyle='-', color=\"blue\", linewidth=2,label = 'Valor simulado')\n",
    "plt.axhline(y=1/2, color='r', linestyle='--', label = 'Valor teorico')\n",
    "plt.ylabel(\"Fração de caras\", fontsize=20)\n",
    "plt.xlabel(\"Numero de experimentos\", fontsize=20)\n",
    "plt.xlim([0.0, Nmax])\n",
    "plt.ylim([0.0, 1.0])\n",
    "plt.legend()\n",
    "plt.show(True) "
   ]
  },
  {
   "cell_type": "markdown",
   "metadata": {},
   "source": [
    "Pela definição frequentista de probabilidades, vimos que a probabilidade de ocorrência de um evento $A$ é definida por:\n",
    "$$\n",
    "P(A) = \\lim_{n\\rightarrow \\infty} \\frac{n_A}{n},\n",
    "$$\n",
    "onde $n$ é o número de experimentos."
   ]
  },
  {
   "cell_type": "markdown",
   "metadata": {},
   "source": [
    "**Exemplo:** Lançando dois dados equilibrados, qual é a probabilidade de que:<br>\n",
    "a) A soma das faces seja igual a 7 (evento A).<br>\n",
    "a) Obter uma soma maior do que 5 (evento B).<br>\n",
    "Na aula, vimos que:\n",
    "$$\n",
    "P(A) = 1/6 = 0.166\n",
    "$$\n",
    "$$\n",
    "P(B) = 26/36 = 0.72.\n",
    "$$"
   ]
  },
  {
   "cell_type": "code",
   "execution_count": 2,
   "metadata": {},
   "outputs": [
    {
     "name": "stdout",
     "output_type": "stream",
     "text": [
      "Probabilidade de que a soma das faces seja igual a 7: 0.17\n",
      "Probabilidade de que a soma das faces seja maior do que 5: 0.711\n"
     ]
    }
   ],
   "source": [
    "import random\n",
    "import numpy as np\n",
    "n = 1000 #numero de experimentos\n",
    "nA = 0\n",
    "nB = 0\n",
    "faces = np.arange(1,7) #valores 1 a 6\n",
    "for i in range(0,n):\n",
    "    dado1 = random.choice(faces)\n",
    "    dado2 = random.choice(faces)\n",
    "    if (dado1+dado2 == 7):\n",
    "        nA = nA + 1\n",
    "    if((dado1 + dado2) > 5):\n",
    "        nB = nB + 1\n",
    "    \n",
    "nA = nA/n\n",
    "nB = nB/n\n",
    "print('Probabilidade de que a soma das faces seja igual a 7:', nA)\n",
    "print('Probabilidade de que a soma das faces seja maior do que 5:', nB)"
   ]
  },
  {
   "cell_type": "markdown",
   "metadata": {},
   "source": [
    "**Exemplo:** Qual é a probabilidade de que em um lançamento de dados saia um número par ou maior do que três?<br>\n",
    "Solução: 4/6 = 0.66."
   ]
  },
  {
   "cell_type": "code",
   "execution_count": 3,
   "metadata": {},
   "outputs": [
    {
     "name": "stdout",
     "output_type": "stream",
     "text": [
      "Probabilidade de que saia um número par ou maior do que três: 0.667\n"
     ]
    }
   ],
   "source": [
    "import random\n",
    "import numpy as np\n",
    "n = 1000 #numero de experimentos\n",
    "nA = 0\n",
    "faces = np.arange(1,7) #valores 1 a 6\n",
    "for i in range(0,n):\n",
    "    dado = random.choice(faces)\n",
    "    if (dado%2 == 0) or (dado > 3):\n",
    "        nA = nA + 1\n",
    "    \n",
    "nA = nA/n\n",
    "print('Probabilidade de que saia um número par ou maior do que três:', nA)"
   ]
  },
  {
   "cell_type": "markdown",
   "metadata": {},
   "source": [
    "**Exemplo:** Uma caixa usada em um sorteio contém 5 bolas pretas numeradas de 1 a 5, sete bolas brancas numeradas de 1 a 7 e oito bolas vermelhas numeradas de 1 a 8.<br>\n",
    "i) Sorteando-se uma bola dessa caixa, qual é a probabilidade de encontrarmos uma bola preta?\n",
    "$$\n",
    "P(A) = \\frac{5}{20} = 0.25\n",
    "$$"
   ]
  },
  {
   "cell_type": "code",
   "execution_count": 12,
   "metadata": {},
   "outputs": [
    {
     "name": "stdout",
     "output_type": "stream",
     "text": [
      "P(A): 0.25\n"
     ]
    }
   ],
   "source": [
    "import random\n",
    "urna = ['P1','P2','P3','P4','P5','B1','B2','B3','B4','B5','B6','B7',\n",
    "       'V1','V2','V3','V4','V5','V6','V7','V8'] \n",
    "n = 1000\n",
    "nA = 0\n",
    "for i in range(0,n):\n",
    "    bola = random.choice(urna)\n",
    "    if(bola[0][0] == 'P'):\n",
    "        nA = nA + 1\n",
    "print('P(A):', nA/n)"
   ]
  },
  {
   "cell_type": "markdown",
   "metadata": {},
   "source": [
    "ii) Sorteando-se uma bola preta, qual é a probabilidade de tal bola ser par?\n",
    "$$\n",
    "P(B|A) = \\frac{2/20}{5/20} = \\frac{2}{5}= 0.4\n",
    "$$"
   ]
  },
  {
   "cell_type": "code",
   "execution_count": 14,
   "metadata": {},
   "outputs": [
    {
     "name": "stdout",
     "output_type": "stream",
     "text": [
      "P(B|A): 0.3918367346938776\n"
     ]
    }
   ],
   "source": [
    "import random\n",
    "urna = ['P1','P2','P3','P4','P5','B1','B2','B3','B4','B5','B6','B7',\n",
    "       'V1','V2','V3','V4','V5','V6','V7','V8'] \n",
    "n = 1000\n",
    "nA = 0\n",
    "nB = 0\n",
    "for i in range(0,n):\n",
    "    bola = random.choice(urna)\n",
    "    if(bola[0] == 'P'):\n",
    "        nA = nA + 1\n",
    "        if(int(bola[1])%2 == 0):\n",
    "            nB = nB + 1\n",
    "print('P(B|A):', (nB/n)/(nA/n))"
   ]
  },
  {
   "cell_type": "markdown",
   "metadata": {},
   "source": [
    "## Exercícios de fixação"
   ]
  },
  {
   "cell_type": "markdown",
   "metadata": {},
   "source": [
    "Resolva e simule os exercícios a seguir."
   ]
  },
  {
   "cell_type": "markdown",
   "metadata": {},
   "source": [
    "1 - Lançando dois dados equilibrados, qual é a probabilidade de que:<br>\n",
    "a) A soma das faces seja igual a 6 (evento A).\n",
    "a) Obter uma soma maior do que 10 (evento B)."
   ]
  },
  {
   "cell_type": "markdown",
   "metadata": {},
   "source": [
    "Cálculo:    \n",
    "\n",
    "A: Soma das Faces = 6   \n",
    "B: Soma das Faces > 10   \n",
    "P(A) = 5/36 = 0,1389   \n",
    "P(B) = 3/36 = 0,0833"
   ]
  },
  {
   "cell_type": "code",
   "execution_count": 19,
   "metadata": {},
   "outputs": [
    {
     "name": "stdout",
     "output_type": "stream",
     "text": [
      "Probabilidade de que a soma das faces seja igual a 6: 0.1377\n",
      "Probabilidade de que a soma das faces seja maior do que 10: 0.0831\n"
     ]
    }
   ],
   "source": [
    "import random\n",
    "import numpy as np\n",
    "n = 10000 #numero de experimentos\n",
    "nA = 0\n",
    "nB = 0\n",
    "faces = np.arange(1,7) #valores 1 a 6\n",
    "for i in range(0,n):\n",
    "    dado1 = random.choice(faces)\n",
    "    dado2 = random.choice(faces)\n",
    "    if (dado1+dado2 == 6):\n",
    "        nA = nA + 1\n",
    "    if((dado1 + dado2) > 10):\n",
    "        nB = nB + 1\n",
    "    \n",
    "nA = nA/n\n",
    "nB = nB/n\n",
    "print('Probabilidade de que a soma das faces seja igual a 6:', nA)\n",
    "print('Probabilidade de que a soma das faces seja maior do que 10:', nB)"
   ]
  },
  {
   "cell_type": "markdown",
   "metadata": {},
   "source": [
    "2 - Qual é a probabilidade de que em um lançamento de dados saia um número ímpar ou maior do que dois?"
   ]
  },
  {
   "cell_type": "markdown",
   "metadata": {},
   "source": [
    "Cálculo:  \n",
    "\n",
    "A: Número Ímpar   \n",
    "B: Número > 2   \n",
    "P(AUB) = P(A) + P(B) - P(AinterB)   \n",
    "P(A) = P(impar) + P(>2) = 3/6 + 4/6 - 2/6 = 5/6 = 0,8333\n"
   ]
  },
  {
   "cell_type": "code",
   "execution_count": 29,
   "metadata": {},
   "outputs": [
    {
     "name": "stdout",
     "output_type": "stream",
     "text": [
      "Probabilidade de que saia um número ímpar ou maior do que dois: 0.846\n"
     ]
    }
   ],
   "source": [
    "import random\n",
    "import numpy as np\n",
    "n = 1000 #numero de experimentos\n",
    "nA = 0\n",
    "faces = np.arange(1,7) #valores 1 a 6\n",
    "for i in range(0,n):\n",
    "    dado = random.choice(faces)\n",
    "    if (dado%2 != 0) or (dado > 2):\n",
    "        nA = nA + 1\n",
    "    \n",
    "nA = nA/n\n",
    "print('Probabilidade de que saia um número ímpar ou maior do que dois:', nA)"
   ]
  },
  {
   "cell_type": "markdown",
   "metadata": {},
   "source": [
    "3 - Uma caixa usada em um sorteio contém 2 bolas pretas numeradas de 1 a 2, três bolas brancas numeradas de 1 a 3 e cinco bolas vermelhas numeradas de 1 a 5.<br>\n",
    "a) Qual é a probabilidade de que uma bola sorteada seja branca ou par?<br>\n",
    "b) Dado que uma bola é vermelha, qual é a chance ser ímpar?"
   ]
  },
  {
   "cell_type": "markdown",
   "metadata": {},
   "source": [
    "a) Cálculo:   \n",
    "\n",
    "A: Bola Branca   \n",
    "B: Bola Par\n",
    "\n",
    "P(AUB) =  P(A) + P(B) - P(AinterB) = 3/10 + 4/10 - 1/10 = 6/10 = 0.60"
   ]
  },
  {
   "cell_type": "code",
   "execution_count": 50,
   "metadata": {},
   "outputs": [
    {
     "name": "stdout",
     "output_type": "stream",
     "text": [
      "P(A): 0.586\n"
     ]
    }
   ],
   "source": [
    "import random\n",
    "urna = ['P1','P2','B1','B2','B3','V1','V2','V3','V4','V5'] \n",
    "n = 1000\n",
    "nA = 0\n",
    "for i in range(0,n):\n",
    "    bola = random.choice(urna)\n",
    "    if (bola[0] == 'B') or (int(bola[1])%2 == 0):\n",
    "        nA = nA + 1\n",
    "print('P(A):', nA/n)"
   ]
  },
  {
   "cell_type": "markdown",
   "metadata": {},
   "source": [
    "b) Cálculo:   \n",
    "\n",
    "A: Bola Vermelha   \n",
    "B: Bola Ímpar\n",
    "\n",
    "P(B|A) = P(BinterA) / P(A) = 3/10 / 5/10 = 3/5 = 0.60"
   ]
  },
  {
   "cell_type": "code",
   "execution_count": 56,
   "metadata": {},
   "outputs": [
    {
     "name": "stdout",
     "output_type": "stream",
     "text": [
      "P(B|A): 0.6053169734151329\n"
     ]
    }
   ],
   "source": [
    "import random\n",
    "urna = ['P1','P2','B1','B2','B3','V1','V2','V3','V4','V5']\n",
    "n = 1000\n",
    "nA = 0\n",
    "nB = 0\n",
    "for i in range(0,n):\n",
    "    bola = random.choice(urna)\n",
    "    if(bola[0] == 'V'):\n",
    "        nA = nA + 1\n",
    "        if (int(bola[1])%2 != 0):\n",
    "            nB = nB + 1\n",
    "print('P(B|A):', (nB/n)/(nA/n))"
   ]
  },
  {
   "cell_type": "markdown",
   "metadata": {},
   "source": [
    "4 - Simule o exercício resolvido na aula teórica e compare os resultados: Lançamos dois dados e observamos a variável aleatória X é igual a 1 se a soma for par ou igual a zero, caso contrário. Determine a distribuição de X."
   ]
  },
  {
   "cell_type": "markdown",
   "metadata": {},
   "source": [
    "Slide 21 / 38:49 da gravação\n",
    "Variável aleatória discreta X\n",
    "A: X=0 (soma ímpar)\n",
    "B: X=1 (soma par)\n",
    "\n",
    "X         0     1\n",
    "P(X=x)   0.5   0.5\n"
   ]
  },
  {
   "cell_type": "code",
   "execution_count": 60,
   "metadata": {},
   "outputs": [
    {
     "name": "stdout",
     "output_type": "stream",
     "text": [
      "Probabilidade de que a soma das faces seja ímpar: 0.516\n",
      "Probabilidade de que a soma das faces seja par: 0.484\n"
     ]
    }
   ],
   "source": [
    "import random\n",
    "import numpy as np\n",
    "n = 1000 #numero de experimentos\n",
    "nA = 0\n",
    "nB = 0\n",
    "faces = np.arange(1,7) #valores 1 a 6\n",
    "for i in range(0,n):\n",
    "    dado1 = random.choice(faces)\n",
    "    dado2 = random.choice(faces)\n",
    "    if ((dado1+dado2)%2 != 0):\n",
    "        nA = nA + 1\n",
    "    else:\n",
    "        nB = nB + 1\n",
    "    \n",
    "nA = nA/n\n",
    "nB = nB/n\n",
    "print('Probabilidade de que a soma das faces seja ímpar:', nA)\n",
    "print('Probabilidade de que a soma das faces seja par:', nB)"
   ]
  },
  {
   "cell_type": "code",
   "execution_count": null,
   "metadata": {},
   "outputs": [],
   "source": []
  },
  {
   "cell_type": "code",
   "execution_count": null,
   "metadata": {},
   "outputs": [],
   "source": []
  }
 ],
 "metadata": {
  "kernelspec": {
   "display_name": "Python 3",
   "language": "python",
   "name": "python3"
  },
  "language_info": {
   "codemirror_mode": {
    "name": "ipython",
    "version": 3
   },
   "file_extension": ".py",
   "mimetype": "text/x-python",
   "name": "python",
   "nbconvert_exporter": "python",
   "pygments_lexer": "ipython3",
   "version": "3.8.3"
  }
 },
 "nbformat": 4,
 "nbformat_minor": 2
}
