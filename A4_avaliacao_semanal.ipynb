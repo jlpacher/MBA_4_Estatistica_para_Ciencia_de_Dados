{
 "cells": [
  {
   "cell_type": "markdown",
   "metadata": {},
   "source": [
    "# AS4 - ECD Distribuição Normal, Teorema Central do Limite e Lei dos Grandes Números"
   ]
  },
  {
   "cell_type": "markdown",
   "metadata": {},
   "source": [
    "### Questão 1:   \n",
    "Uma máquina que enche potes de sorvete de forma automática, em uma indústria de laticínios, está regulada de modo a servir uma média de 100ml por recipiente. Se a quantidade servida por embalagem seguir uma distribuição normal com desvio padrão de 10 ml, determine a proporção de embalagens que transbordarão se forem usadas embalagens de 110 ml.   \n",
    "(Aproxime para duas casas decimais)   \n",
    "\n",
    "Escolha uma opção:   \n",
    "a. 0,51   \n",
    "b. 0,84   \n",
    "c. 0,02   \n",
    "<font color='red'>d. 0,16</font>   \n",
    "e. 0,98"
   ]
  },
  {
   "cell_type": "code",
   "execution_count": 2,
   "metadata": {},
   "outputs": [
    {
     "name": "stdout",
     "output_type": "stream",
     "text": [
      "Z: 1.0\n",
      "Probabilidade: 0.16\n"
     ]
    }
   ],
   "source": [
    "import scipy.stats as st\n",
    "\n",
    "media = 100\n",
    "dp = 10\n",
    "z = (110-media)/dp    # transformação de X para poder aplicar a tabela z\n",
    "p = 1-st.norm.cdf(z)\n",
    "print('Z:', z)\n",
    "print('Probabilidade:', p.round(2))"
   ]
  },
  {
   "cell_type": "code",
   "execution_count": null,
   "metadata": {},
   "outputs": [],
   "source": []
  },
  {
   "cell_type": "markdown",
   "metadata": {},
   "source": [
    "### Questão 2:   \n",
    "A altura de alunos em uma escola de São Paulo pode ser modelada como uma distribuição normal com média 1,70m e desvio padrão 0,5m. Determine a probabilidade de que um aluno selecionado de forma aleatória tenha altura menor do que 1,80m.\n",
    "\n",
    "Escolha uma opção:   \n",
    "a. 0,32   \n",
    "b. 0,85   \n",
    "c. 0,99   \n",
    "<font color='red'>d. 0,58</font>   \n",
    "e. 0,42"
   ]
  },
  {
   "cell_type": "code",
   "execution_count": 3,
   "metadata": {},
   "outputs": [
    {
     "name": "stdout",
     "output_type": "stream",
     "text": [
      "Z: 0.20000000000000018\n",
      "Probabilidade: 0.58\n"
     ]
    }
   ],
   "source": [
    "media = 1.70\n",
    "dp = 0.5\n",
    "z = (1.8-media)/dp    # transformação de X para poder aplicar a tabela z\n",
    "p = st.norm.cdf(z)\n",
    "print('Z:', z)\n",
    "print('Probabilidade:', p.round(2))"
   ]
  },
  {
   "cell_type": "code",
   "execution_count": null,
   "metadata": {},
   "outputs": [],
   "source": []
  },
  {
   "cell_type": "markdown",
   "metadata": {},
   "source": [
    "### Questão 3:   \n",
    "No caso da Lei Forte dos Grande Números, podemos afirmar, de maneira intuitiva, que:   \n",
    "\n",
    "Escolha uma opção:   \n",
    "a. A mediana amostral é igual à media amostral.   \n",
    "<font color='red'>b. A média amostral converge para a média populacional se aumentarmos o tamanho da amostra.</font>   \n",
    "c. A distribuição da média amostral se aproxima da distribuição normal quando aumentamos o tamanho da amostra.   \n",
    "d. A esperança amostral pode ser calculada baseando-se no desvio padrão.   \n",
    "e. A variância amostral diverge se aumentamos o tamanho da amostra.   "
   ]
  },
  {
   "cell_type": "code",
   "execution_count": null,
   "metadata": {},
   "outputs": [],
   "source": []
  },
  {
   "cell_type": "markdown",
   "metadata": {},
   "source": [
    "### Questão 4:   \n",
    "Como você verificaria o Teorema Central do Limite através de simulações?   \n",
    "\n",
    "Escolha uma opção:   \n",
    "a. Verificaria se a distribuição da média amostral, calculada para várias amostras, segue o modelo de Poisson.   \n",
    "b. Geraria números a partir de uma normal e verificaria se segue uma normal.   \n",
    "c. Verificaria se a variância amostral segue a distribuição normal.   \n",
    "<font color='red'>d. Geraria várias amostras de tamanho n, calcularia a média amostral e verificaria se o histograma de tal média segue uma normal quando aumentamos n.</font>   \n",
    "e. Calcularia a média amostral e verificaria se ela é igual à esperança.   "
   ]
  },
  {
   "cell_type": "markdown",
   "metadata": {},
   "source": [
    "### Questão 5:   \n",
    "Seja uma população com média μ=5  e desvio padrão σ=10 .   \n",
    "Se uma amostra de tamanho 100 é obtida, qual o valor de P(3≤X¯<7) ?\n",
    "\n",
    "Escolha uma opção:   \n",
    "a. 0,65   \n",
    "<font color='red'>b. 0,95</font>   \n",
    "c. 0,72   \n",
    "d. 0,35   \n",
    "e. 0,78"
   ]
  },
  {
   "cell_type": "code",
   "execution_count": 11,
   "metadata": {},
   "outputs": [
    {
     "name": "stdout",
     "output_type": "stream",
     "text": [
      "Z: -2.0 2.0\n",
      "Probabilidade: 0.95\n"
     ]
    }
   ],
   "source": [
    "import numpy as np\n",
    "media = 5\n",
    "dp = 10\n",
    "n= 100\n",
    "z3 = (3-media)/(dp/np.sqrt(n))   # transformação de X para poder aplicar a tabela z\n",
    "z7 = (7-media)/(dp/np.sqrt(n))\n",
    "p = st.norm.cdf(z7)-st.norm.cdf(z3)\n",
    "print('Z:', z3, z7)\n",
    "print('Probabilidade:', p.round(2))"
   ]
  },
  {
   "cell_type": "code",
   "execution_count": null,
   "metadata": {},
   "outputs": [],
   "source": []
  }
 ],
 "metadata": {
  "kernelspec": {
   "display_name": "Python 3",
   "language": "python",
   "name": "python3"
  },
  "language_info": {
   "codemirror_mode": {
    "name": "ipython",
    "version": 3
   },
   "file_extension": ".py",
   "mimetype": "text/x-python",
   "name": "python",
   "nbconvert_exporter": "python",
   "pygments_lexer": "ipython3",
   "version": "3.8.10"
  }
 },
 "nbformat": 4,
 "nbformat_minor": 4
}
