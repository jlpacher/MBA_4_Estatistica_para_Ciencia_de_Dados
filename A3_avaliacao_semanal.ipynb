{
 "cells": [
  {
   "cell_type": "markdown",
   "metadata": {},
   "source": [
    "# ECD - Avaliação Semanal 3"
   ]
  },
  {
   "cell_type": "markdown",
   "metadata": {},
   "source": [
    "### Questão 1:   \n",
    "Uma moeda justa é lançada 10 vezes. Qual é a probabilidade que saiam 6 caras?   \n",
    "\n",
    "Escolha uma opção:   \n",
    "<font color='red'>a. 0,20</font>   \n",
    "b. 0,3   \n",
    "c. 0,6   \n",
    "d. 0,1   \n",
    "e. 0,9   "
   ]
  },
  {
   "cell_type": "markdown",
   "metadata": {},
   "source": [
    "Sucesso = Cara = 1<br>\n",
    "Falha  = Coroa = 0<br>\n",
    "Distribuição Binomial."
   ]
  },
  {
   "cell_type": "code",
   "execution_count": 1,
   "metadata": {},
   "outputs": [],
   "source": [
    "# função binomial para calcular o valor da probabilidade\n",
    "import math\n",
    "def binomial(n,p,k):\n",
    "    \"\"\"Funcao binomial para calcular o valor da probabilidade\n",
    "    Parametros:\n",
    "        - n: número de tentativas ou repetições\n",
    "        - p: probabilidade de sucesso em cada tentativa\n",
    "        - k: número de sucessos\n",
    "    Retorno:\n",
    "        - pk: probabilidade da ocorrência\n",
    "    \"\"\"\n",
    "    C = (math.factorial(n)/(math.factorial(n-k)*math.factorial(k)))\n",
    "    pk = C*(p**k)*(1-p)**(n-k)\n",
    "    return pk"
   ]
  },
  {
   "cell_type": "code",
   "execution_count": 2,
   "metadata": {},
   "outputs": [
    {
     "name": "stdout",
     "output_type": "stream",
     "text": [
      "Probabilidade: 0.205078125\n"
     ]
    }
   ],
   "source": [
    "# cálculo pela função\n",
    "# valor teórico para que saiam 6 caras\n",
    "n = 10      # numero de tentativas\n",
    "p = 1/2    # p(X=cara) = 1/2\n",
    "k = 6       # k = 6 caras\n",
    "print('Probabilidade:', binomial(n,p,k))"
   ]
  },
  {
   "cell_type": "code",
   "execution_count": 3,
   "metadata": {},
   "outputs": [
    {
     "name": "stdout",
     "output_type": "stream",
     "text": [
      "Valor teórico: 0.20507812500000022\n",
      "Valor obtido =  0.195\n"
     ]
    }
   ],
   "source": [
    "import random\n",
    "from scipy.stats import binom\n",
    "#binom.pmf(k) = choose(n, k) * p**k * (1-p)**(n-k)\n",
    "#binom.pmf(k,n,p)\n",
    "\n",
    "ns = 1000 # numero de experimentos\n",
    "X = [0,1] # espaço amostral X=1 (Cara=Sucesso) e X=0 (Coroa=Falha)\n",
    "n = 10     # numero de tentativas\n",
    "k = 0      # inicializa k para contar os sucessos\n",
    "for i in range(0,ns):\n",
    "    saida = []\n",
    "    for j in range(0,n):\n",
    "        moeda = random.choice(X)\n",
    "        saida.append(moeda)\n",
    "    ncaras = 0\n",
    "    for s in saida:\n",
    "        if(s == 1):\n",
    "            ncaras = ncaras + 1\n",
    "    if(ncaras == 6):       # ncaras ==6 é o evento que se quer calcular\n",
    "        k = k + 1          # soma dos sucessos     \n",
    "\n",
    "print('Valor teórico:', binom.pmf(k=6, n=10, p=1/2))\n",
    "print('Valor obtido = ', k/ns)"
   ]
  },
  {
   "cell_type": "markdown",
   "metadata": {},
   "source": [
    "### Questão 2:   \n",
    "O departamento de análise de dados de um banco recebe, em média, 5 solicitações por hora. Qual a probabilidade de receber 2 solicitações numa hora selecionada aleatoriamente? (Dica: Use a distribuição de Poisson)   \n",
    "\n",
    "Escolha uma opção:   \n",
    "a. 0,14   \n",
    "b. 0,20   \n",
    "c. 0,45   \n",
    "d. 0,01   \n",
    "<font color='red'>e. 0,08</font>"
   ]
  },
  {
   "cell_type": "code",
   "execution_count": 4,
   "metadata": {},
   "outputs": [],
   "source": [
    "import numpy as np\n",
    "import math\n",
    "\"\"\"Funcao de Poisson para calcular o valor da probabilidade\n",
    "   Parametros:\n",
    "       - ldb: lâmbda ou taxa (no. de ocorrências por tempo, comprimento etc)\n",
    "       - k: número de ocorrências que se quer verificar\n",
    "   Retorno:\n",
    "       - pk: probabilidade da ocorrência\n",
    "\"\"\"\n",
    "def Poisson(lbd, k):\n",
    "    pk = np.exp(-lbd)*(lbd**k)/math.factorial(k)\n",
    "    return pk"
   ]
  },
  {
   "cell_type": "code",
   "execution_count": 5,
   "metadata": {},
   "outputs": [
    {
     "name": "stdout",
     "output_type": "stream",
     "text": [
      "P(k = 2) =  0.08\n"
     ]
    }
   ],
   "source": [
    "lbd = 5 #taxa de ocorrências\n",
    "k = 2   #número de ocorrências\n",
    "print(\"P(k = 2) = \", round(Poisson(lbd,k),2))"
   ]
  },
  {
   "cell_type": "markdown",
   "metadata": {},
   "source": [
    "### Questão 3:   \n",
    "O tempo entre falhas em uma linha de produção, representado pela a variável aleatória X, segue o modelo exponencial com  falhas por mês, ou seja,\n",
    "\n",
    "f(x)={2e(−2x),x≥0   \n",
    "      0,x<0   \n",
    "\n",
    "Calcule E[X] e V(X).   \n",
    "\n",
    "Escolha uma opção:   \n",
    "a. E[X]=0, V(X)=1   \n",
    "b. <font color='red'>E[X]=1/2 e V(X)=1/4</font>   \n",
    "c. E[X]=1/2, V(X)=4/9   \n",
    "d. E[X]=3/2, V(X)=6/5   \n",
    "e. E[X]=1/4, V(X)=2/5   "
   ]
  },
  {
   "cell_type": "markdown",
   "metadata": {},
   "source": [
    "Fórmula geral da distribuição exponencial:   \n",
    "f(x)={alpha.e(−alpha.x),x≥0   \n",
    "0,x<0   \n",
    "E[X]=1/alpha   \n",
    "V(X)=1/alpha^^2\n",
    "\n",
    "Portanto:   \n",
    "alpha = 2   \n",
    "E[X] = 1/2   \n",
    "V(X) = 1/4"
   ]
  },
  {
   "cell_type": "code",
   "execution_count": 6,
   "metadata": {},
   "outputs": [
    {
     "name": "stdout",
     "output_type": "stream",
     "text": [
      "E[X]=0.50, V(X)=0.25\n"
     ]
    }
   ],
   "source": [
    "# No exemplo, alpha =2 \n",
    "# na função print s=string, f=número\n",
    "alpha = 2\n",
    "print('E[X]=%.2f, V(X)=%.2f' % (1/alpha, 1/(alpha**2)))"
   ]
  },
  {
   "cell_type": "code",
   "execution_count": 7,
   "metadata": {},
   "outputs": [
    {
     "data": {
      "image/png": "[encoded data removed]",
      "text/plain": [
       "<Figure size 576x360 with 1 Axes>"
      ]
     },
     "metadata": {
      "needs_background": "light"
     },
     "output_type": "display_data"
    },
    {
     "name": "stdout",
     "output_type": "stream",
     "text": [
      "Esperanca teorica: 0.5 Média amostral: 0.48164746444458734\n",
      "Variância teórica: 0.25 Variância amostral: 0.2247688292576119\n"
     ]
    }
   ],
   "source": [
    "# resolvendo com scipy.stats\n",
    "# aqui a entrada da função é 1/alpha\n",
    "from scipy.stats import expon\n",
    "import matplotlib.pyplot as plt\n",
    "import numpy as np\n",
    "\n",
    "alpha = 2\n",
    "X = expon.rvs(scale=1/alpha,size=1000)\n",
    "plt.figure(figsize=(8,5))\n",
    "\n",
    "P, bins, ignored = plt.hist(X, bins='auto', density=True, color='#0504aa',alpha=0.7, rwidth=0.9)\n",
    "plt.xlabel('k', fontsize = 15)\n",
    "plt.ylabel('P(k)',fontsize = 15)\n",
    "plt.show(True)\n",
    "\n",
    "print('Esperanca teorica:', 1/alpha, 'Média amostral:', np.mean(X))\n",
    "print('Variância teórica:', 1/alpha**2,'Variância amostral:', np.var(X))"
   ]
  },
  {
   "cell_type": "markdown",
   "metadata": {},
   "source": [
    "### Questão 4:   \n",
    "A variável aleatória X tem função densidade de probabilidade dada por:   \n",
    "\n",
    "f(x)={3x^^2,se 0≤x≤1   \n",
    "0 caso contrário\n",
    "\n",
    "Calcule o valor esperado de X.   \n",
    "\n",
    "Escolha uma opção:   \n",
    "a. E[X]=5/4   \n",
    "b. E[X]=0   \n",
    "<font color='red'>c. E[X]=3/4</font>   \n",
    "d. E[X]=1/2   \n",
    "e. E[X]=2   "
   ]
  },
  {
   "cell_type": "markdown",
   "metadata": {},
   "source": [
    "Variável aleatória: função que associa todo evento do espaço amostral a um único número real |R.   \n",
    "Variável aleatória contínua:   \n",
    "\n",
    "E[X] = integrate x.f(x).dx from (-infinity) to (+infinity)   \n",
    "\n",
    "No exemplo:   \n",
    "f(x) = 3.x^2   \n",
    "E[X] = integrate x.3.x^2.dx from 0 to 1   \n",
    "E[X] = integrate 3.x^3.dx from 0 to 1   \n",
    "E[X] = 3 * x^4 / 4 (x=1) - 3 * x^4 / 4 (x=0) = 3/4 - 0 = 3/4   \n"
   ]
  },
  {
   "cell_type": "markdown",
   "metadata": {},
   "source": [
    "Calculando pelo https://www.wolframalpha.com/   \n",
    "integrate x*3*x^2 from 0 to 1   \n",
    "\n",
    "integral_0^1 x 3 x^2 dx = 3/4 = 0.75\n",
    "    "
   ]
  },
  {
   "cell_type": "markdown",
   "metadata": {},
   "source": [
    "### Questão 5:   \n",
    "\n",
    "A variável aleatória X tem função densidade de probabilidade dada por:   \n",
    "\n",
    "f(x)={3x^^2,se 0≤x≤1   \n",
    "0 caso contrário\n",
    "\n",
    "Calcule a variância de X. (Dica: Use https://www.wolframalpha.com)\n",
    "\n",
    "Escolha uma opção:   \n",
    "a. 0,054   \n",
    "b. 0,090   \n",
    "<font color='red'>c. 0,037</font>    \n",
    "d. 0,012   \n",
    "e. 0,045"
   ]
  },
  {
   "cell_type": "markdown",
   "metadata": {},
   "source": [
    "Variável aleatória: função que associa todo evento do espaço amostral a um único número real |R.   \n",
    "Variável aleatória contínua:   \n",
    "\n",
    "E[X] = integrate x.f(x).dx from (-infinity) to (+infinity)   \n",
    "V(X) = E[X^2] - E[X]^2\n",
    "\n",
    "No exemplo:   \n",
    "f(x) = 3.x^^2   \n",
    "E[X] = integrate x.3.x^2.dx from 0 to 1   \n",
    "E[X] = integrate 3.x^3.dx from 0 to 1   \n",
    "E[X] = 3 * x^4 / 4 (x=1) - 3 * x^4 / 4 (x=0) = 3/4 - 0 = 3/4   \n",
    "E[X]^2 = 9/16   \n",
    "\n",
    "E[X^2] = integrate x^2.3.x^2 from 0 to 1   \n",
    "E[X^2] = integrate 3.x^4.dx from 0 to 1   \n",
    "E[X^2] = 3 * x^5 / 5 (x=1) - 3 * x^5 / 5 (x=0) = 3/5 - 0 = 3/5\n",
    "\n"
   ]
  },
  {
   "cell_type": "markdown",
   "metadata": {},
   "source": [
    "Calculando pelo https://www.wolframalpha.com/   \n",
    "integrate x^2*3*x^2 from 0 to 1   \n",
    "\n",
    "integral_0^1 x^2 3 x^2 dx = 3/5 = 0.6"
   ]
  },
  {
   "cell_type": "code",
   "execution_count": 20,
   "metadata": {},
   "outputs": [
    {
     "name": "stdout",
     "output_type": "stream",
     "text": [
      "V(X) = 0.037\n",
      "E[X]=0.750, E[X]^2=1.500, E[X^2]=0.600, V(X)=0.037\n",
      "E[X]=0.75\tE[X]^2=1.5\tE[X^2]=0.6\tV(X)=0.037\n"
     ]
    }
   ],
   "source": [
    "E_X = 3/4\n",
    "E_X_square = 3/5\n",
    "V_X = E_X_square - E_X**2\n",
    "print('V(X) = %.3f' % V_X)\n",
    "print('E[X]=%.3f, E[X]^2=%.3f, E[X^2]=%.3f, V(X)=%.3f' % (E_X, E_X*2, E_X_square, V_X))\n",
    "print(f\"E[X]={E_X}\\tE[X]^2={E_X*2}\\tE[X^2]={E_X_square}\\tV(X)={round(V_X,3)}\")"
   ]
  },
  {
   "cell_type": "code",
   "execution_count": null,
   "metadata": {},
   "outputs": [],
   "source": []
  }
 ],
 "metadata": {
  "kernelspec": {
   "display_name": "Python 3",
   "language": "python",
   "name": "python3"
  },
  "language_info": {
   "codemirror_mode": {
    "name": "ipython",
    "version": 3
   },
   "file_extension": ".py",
   "mimetype": "text/x-python",
   "name": "python",
   "nbconvert_exporter": "python",
   "pygments_lexer": "ipython3",
   "version": "3.8.10"
  }
 },
 "nbformat": 4,
 "nbformat_minor": 4
}
