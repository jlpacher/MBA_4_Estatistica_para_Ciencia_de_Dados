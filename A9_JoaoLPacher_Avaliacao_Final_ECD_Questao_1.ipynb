{
 "cells": [
  {
   "cell_type": "markdown",
   "id": "3b453a83",
   "metadata": {},
   "source": [
    "# Avaliação Final - ECD - Estatística para Ciência de Dados"
   ]
  },
  {
   "cell_type": "markdown",
   "id": "6eb4c476",
   "metadata": {},
   "source": [
    "### Questão 1:<br>\n",
    "Uma empresa de market digital acredita que o tempo médio para um cliente responder a uma propaganda é maior do que 20 horas. Para analisar essa hipótese, são selecionados dados de 20 clientes, onde obtém-se os valores: <br>22,21,19,18,24,17,20,22,23,19,21,25,20,21,22,18,24,20,21,19. Suponha que o tempo de resposta tem distribuição normal com desvio padrão de 5 horas. Teste a seguinte hipótese ao nível de 5%:<br>\n",
    "H0:μ=20<br>\n",
    "H1:μ>20.<br>\n",
    "Resolva esse problema usando simulação, conforme feito na aula. Considere Ns=1000 simulações.<br>\n",
    "\n",
    "Anexe o arquivo notebook com a sua resposta. Atenção, se constatado plágio, a questão será zerada.<br>\n",
    "\n",
    "Tamanho máximo para arquivos: 7.8Gb, número máximo de anexos: 1<br>"
   ]
  },
  {
   "cell_type": "code",
   "execution_count": 1,
   "id": "4f0f82c9",
   "metadata": {},
   "outputs": [
    {
     "name": "stdout",
     "output_type": "stream",
     "text": [
      "Para nivel de significância: 5 %\n",
      "xc_95= 21.8   Xobs =  20.8\n",
      "Aceitamos H0\n"
     ]
    },
    {
     "data": {
      "image/png": "[encoded data removed]",
      "text/plain": [
       "<Figure size 576x288 with 1 Axes>"
      ]
     },
     "metadata": {
      "needs_background": "light"
     },
     "output_type": "display_data"
    }
   ],
   "source": [
    "import numpy as np\n",
    "import matplotlib.pyplot as plt\n",
    "\n",
    "mu = 20    # hipotese a ser testada\n",
    "sigma = 5  # desvio padrao populacional\n",
    "n = 20     #tamanho da amostra\n",
    "Ns = 1000  # numero de simulacoes\n",
    "Xm=[]      #distribuicao da media amostral\n",
    "alpha = 5  # nível de significância\n",
    "\n",
    "# Gerando as amostras para calcular o X crítico\n",
    "for s in range(1,Ns):\n",
    "    x = np.random.normal(mu, sigma, n) # sorteia uma amostra de tamanho n\n",
    "    Xm.append(np.mean(x))\n",
    "\n",
    "xc_95 = np.percentile(Xm, 100-alpha).round(1)\n",
    "\n",
    "\n",
    "# Verificando a fração de observações que permitem que aceitemos H0 para nivel=5%\n",
    "# H0:μ=20\n",
    "# H1:μ>20\n",
    "    \n",
    "X = [22,21,19,18,24,17,20,22,23,19,21,25,20,21,22,18,24,20,21,19]\n",
    "\n",
    "xobs = np.mean(X)\n",
    "\n",
    "print('Para nivel de significância:', alpha, '%')\n",
    "print('xc_95=',xc_95,'  Xobs = ', xobs)\n",
    "if(xobs < xc_95):\n",
    "    print(\"Aceitamos H0\")\n",
    "else:\n",
    "    print(\"Rejeitamos H0\")    \n",
    "    \n",
    "\n",
    "    # Vendo o resultado numa figura\n",
    "\n",
    "plt.figure(figsize=(8,4))\n",
    "a = plt.hist(x=Xm, bins=20, color='#0504aa', alpha=0.7, rwidth=0.85, density=True)\n",
    "plt.axvline(x=xc_95, color='red', linestyle='--', label = 'xc_95')\n",
    "plt.axvline(x=xobs, color='green', linestyle='--', label = 'xobs')\n",
    "plt.axvline(x=mu,   color='yellow',    linestyle='-', label = 'mu')\n",
    "plt.xlabel(r'$\\bar{X}$', fontsize=20)\n",
    "plt.ylabel(r'$P(\\bar{X})$', fontsize=20)\n",
    "plt.legend()\n",
    "plt.show(True)     "
   ]
  },
  {
   "cell_type": "code",
   "execution_count": null,
   "id": "9d2e0bf1",
   "metadata": {},
   "outputs": [],
   "source": []
  }
 ],
 "metadata": {
  "kernelspec": {
   "display_name": "Python 3",
   "language": "python",
   "name": "python3"
  },
  "language_info": {
   "codemirror_mode": {
    "name": "ipython",
    "version": 3
   },
   "file_extension": ".py",
   "mimetype": "text/x-python",
   "name": "python",
   "nbconvert_exporter": "python",
   "pygments_lexer": "ipython3",
   "version": "3.8.10"
  }
 },
 "nbformat": 4,
 "nbformat_minor": 5
}
