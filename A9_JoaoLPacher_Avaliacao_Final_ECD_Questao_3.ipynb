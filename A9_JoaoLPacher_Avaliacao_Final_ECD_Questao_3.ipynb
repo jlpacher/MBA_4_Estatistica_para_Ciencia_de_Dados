{
 "cells": [
  {
   "cell_type": "markdown",
   "id": "3b453a83",
   "metadata": {},
   "source": [
    "# Avaliação Final - ECD - Estatística para Ciência de Dados"
   ]
  },
  {
   "cell_type": "markdown",
   "id": "dbd8d0b3",
   "metadata": {},
   "source": [
    "### Questão 3:<br>\n",
    "Na base de dados comorbidades.csv, são apresentados dados reais de uma amostra obtida do seade-R (Fonte dos dados originais: https://github.com/seade-R/dados-covid-sp). Essa base de dados contém as seguintes informações sobre pacientes que foram internados com diagnóstico de COVID-19 entre fevereiro de 2020 e maio de 2021:<br>\n",
    "\n",
    "Identificação do paciente<br>\n",
    "\n",
    "Município<br>\n",
    "\n",
    "Código do IBGE<br>\n",
    "\n",
    "Idade<br>\n",
    "\n",
    "Sexo (1: feminino, 0: masculino)<br>\n",
    "\n",
    "Óbito (1: sim, 0: não)<br>\n",
    "\n",
    "Comorbidades: asma, cardiopatia, diabetes, doença hematológica, doença renal, doença hepática, doença neurológica, imunodepressão, obesidade, outros fatores de risco, pneumopatia, puérpera, síndrome de down (para cada uma delas 1: presente, 0: ausente)<br>\n",
    "\n",
    "As observações com dados faltantes foram excluídas da base original para esta análise específica, considerando que essa exclusão não afeta a representatividade da amostra.<br>\n",
    "\n",
    "     3. Descreva por meio de gráficos a associação entre idade e óbito, e repita para sexo e óbito. Considere então as comorbidades: asma, cardiopatia, diabetes, doença renal e obesidade e investigue a associação de cada uma delas com a variável óbito. Note que algumas variáveis estão codificadas em 0 e 1 mas são qualitativas. Fique atento à forma de analisar a associação entre duas variáveis qualitativas. Comente os resultados obtidos, observando que não é possível concluir estatisticamente se existe ou não associação entre as variáveis apenas com análise exploratória.<br>\n",
    "\n",
    "     4. Ajuste um modelo de regressão logística com intercepto, considerando como variáveis preditoras o sexo, a idade e as comorbidades asma, cardiopatia, diabetes, doenca_renal, obesidade. Descreva o impacto da presença das duas comorbidades com maior significância marginal utilizando a razão de chances. Os resultados confirmam a investigação inicial da Questão 3? Comente sobre os resultados obtidos. Para este item, considere que não é necessário fazer a seleção de atributos ou dividir a base em treinamento e teste. <br>\n",
    "\n",
    "\n",
    "O formato de entrega será de dois arquivos: <br>\n",
    "\n",
    "Arquivo .pdf, com os resultados resumidos e comentados.<br>\n",
    "\n",
    "Jupyter Notebook .ipynb, com os códigos usados para a obtenção dos resultados. Este notebook deve ser comentado de forma a facilmente identificar os códigos de cada análise.<br>\n",
    "\n",
    "Atenção, se constatado plágio, a questão será zerada.<br>\n",
    "\n",
    "Tamanho máximo para arquivos: 7.8Gb, número máximo de anexos: 2<br>"
   ]
  },
  {
   "cell_type": "code",
   "execution_count": 1,
   "id": "6b3b8812",
   "metadata": {},
   "outputs": [
    {
     "name": "stdout",
     "output_type": "stream",
     "text": [
      "(1182, 18)\n"
     ]
    },
    {
     "data": {
      "text/html": [
       "<div>\n",
       "<style scoped>\n",
       "    .dataframe tbody tr th:only-of-type {\n",
       "        vertical-align: middle;\n",
       "    }\n",
       "\n",
       "    .dataframe tbody tr th {\n",
       "        vertical-align: top;\n",
       "    }\n",
       "\n",
       "    .dataframe thead th {\n",
       "        text-align: right;\n",
       "    }\n",
       "</style>\n",
       "<table border=\"1\" class=\"dataframe\">\n",
       "  <thead>\n",
       "    <tr style=\"text-align: right;\">\n",
       "      <th></th>\n",
       "      <th>nome_munic</th>\n",
       "      <th>codigo_ibge</th>\n",
       "      <th>idade</th>\n",
       "      <th>sexo</th>\n",
       "      <th>obito</th>\n",
       "      <th>asma</th>\n",
       "      <th>cardiopatia</th>\n",
       "      <th>diabetes</th>\n",
       "      <th>doenca_hematologica</th>\n",
       "      <th>doenca_hepatica</th>\n",
       "      <th>doenca_neurologica</th>\n",
       "      <th>doenca_renal</th>\n",
       "      <th>imunodepressao</th>\n",
       "      <th>obesidade</th>\n",
       "      <th>outros_fatores_de_risco</th>\n",
       "      <th>pneumopatia</th>\n",
       "      <th>puerpera</th>\n",
       "      <th>sindrome_de_down</th>\n",
       "    </tr>\n",
       "  </thead>\n",
       "  <tbody>\n",
       "    <tr>\n",
       "      <th>66</th>\n",
       "      <td>Ferraz de Vasconcelos</td>\n",
       "      <td>3515707</td>\n",
       "      <td>86</td>\n",
       "      <td>0</td>\n",
       "      <td>1</td>\n",
       "      <td>0</td>\n",
       "      <td>1</td>\n",
       "      <td>1</td>\n",
       "      <td>0</td>\n",
       "      <td>0</td>\n",
       "      <td>0</td>\n",
       "      <td>0</td>\n",
       "      <td>0</td>\n",
       "      <td>0</td>\n",
       "      <td>0</td>\n",
       "      <td>0</td>\n",
       "      <td>0</td>\n",
       "      <td>0</td>\n",
       "    </tr>\n",
       "    <tr>\n",
       "      <th>97</th>\n",
       "      <td>São Paulo</td>\n",
       "      <td>3550308</td>\n",
       "      <td>62</td>\n",
       "      <td>0</td>\n",
       "      <td>0</td>\n",
       "      <td>0</td>\n",
       "      <td>0</td>\n",
       "      <td>1</td>\n",
       "      <td>0</td>\n",
       "      <td>0</td>\n",
       "      <td>0</td>\n",
       "      <td>0</td>\n",
       "      <td>0</td>\n",
       "      <td>0</td>\n",
       "      <td>0</td>\n",
       "      <td>1</td>\n",
       "      <td>0</td>\n",
       "      <td>0</td>\n",
       "    </tr>\n",
       "    <tr>\n",
       "      <th>100</th>\n",
       "      <td>São José dos Campos</td>\n",
       "      <td>3549904</td>\n",
       "      <td>58</td>\n",
       "      <td>0</td>\n",
       "      <td>0</td>\n",
       "      <td>0</td>\n",
       "      <td>1</td>\n",
       "      <td>0</td>\n",
       "      <td>0</td>\n",
       "      <td>0</td>\n",
       "      <td>0</td>\n",
       "      <td>0</td>\n",
       "      <td>1</td>\n",
       "      <td>0</td>\n",
       "      <td>1</td>\n",
       "      <td>0</td>\n",
       "      <td>0</td>\n",
       "      <td>0</td>\n",
       "    </tr>\n",
       "    <tr>\n",
       "      <th>207</th>\n",
       "      <td>Mauá</td>\n",
       "      <td>3529401</td>\n",
       "      <td>54</td>\n",
       "      <td>1</td>\n",
       "      <td>1</td>\n",
       "      <td>1</td>\n",
       "      <td>1</td>\n",
       "      <td>0</td>\n",
       "      <td>0</td>\n",
       "      <td>0</td>\n",
       "      <td>0</td>\n",
       "      <td>0</td>\n",
       "      <td>0</td>\n",
       "      <td>0</td>\n",
       "      <td>0</td>\n",
       "      <td>0</td>\n",
       "      <td>0</td>\n",
       "      <td>0</td>\n",
       "    </tr>\n",
       "    <tr>\n",
       "      <th>249</th>\n",
       "      <td>Cajamar</td>\n",
       "      <td>3509205</td>\n",
       "      <td>62</td>\n",
       "      <td>0</td>\n",
       "      <td>1</td>\n",
       "      <td>0</td>\n",
       "      <td>1</td>\n",
       "      <td>1</td>\n",
       "      <td>0</td>\n",
       "      <td>0</td>\n",
       "      <td>0</td>\n",
       "      <td>0</td>\n",
       "      <td>0</td>\n",
       "      <td>1</td>\n",
       "      <td>0</td>\n",
       "      <td>0</td>\n",
       "      <td>0</td>\n",
       "      <td>0</td>\n",
       "    </tr>\n",
       "  </tbody>\n",
       "</table>\n",
       "</div>"
      ],
      "text/plain": [
       "                nome_munic  codigo_ibge  idade  sexo  obito  asma  \\\n",
       "66   Ferraz de Vasconcelos      3515707     86     0      1     0   \n",
       "97               São Paulo      3550308     62     0      0     0   \n",
       "100    São José dos Campos      3549904     58     0      0     0   \n",
       "207                   Mauá      3529401     54     1      1     1   \n",
       "249                Cajamar      3509205     62     0      1     0   \n",
       "\n",
       "     cardiopatia  diabetes  doenca_hematologica  doenca_hepatica  \\\n",
       "66             1         1                    0                0   \n",
       "97             0         1                    0                0   \n",
       "100            1         0                    0                0   \n",
       "207            1         0                    0                0   \n",
       "249            1         1                    0                0   \n",
       "\n",
       "     doenca_neurologica  doenca_renal  imunodepressao  obesidade  \\\n",
       "66                    0             0               0          0   \n",
       "97                    0             0               0          0   \n",
       "100                   0             0               1          0   \n",
       "207                   0             0               0          0   \n",
       "249                   0             0               0          1   \n",
       "\n",
       "     outros_fatores_de_risco  pneumopatia  puerpera  sindrome_de_down  \n",
       "66                         0            0         0                 0  \n",
       "97                         0            1         0                 0  \n",
       "100                        1            0         0                 0  \n",
       "207                        0            0         0                 0  \n",
       "249                        0            0         0                 0  "
      ]
     },
     "execution_count": 1,
     "metadata": {},
     "output_type": "execute_result"
    }
   ],
   "source": [
    "import numpy as np\n",
    "import pandas as pd\n",
    "import statsmodels.api as sm\n",
    "from matplotlib import pyplot as plt\n",
    "from sklearn.model_selection import train_test_split\n",
    "import seaborn as sns\n",
    "\n",
    "# Leitura dos dados\n",
    "df = pd.read_csv('comorbidades.csv', index_col=0)\n",
    "print(df.shape)\n",
    "df.head()"
   ]
  },
  {
   "cell_type": "markdown",
   "id": "fc922613",
   "metadata": {},
   "source": [
    "## Questão 3:"
   ]
  },
  {
   "cell_type": "code",
   "execution_count": 2,
   "id": "96c4ef5c",
   "metadata": {},
   "outputs": [
    {
     "name": "stdout",
     "output_type": "stream",
     "text": [
      "   obito  count\n",
      "0      0    753\n",
      "1      1    429\n"
     ]
    },
    {
     "data": {
      "text/plain": [
       "obito\n",
       "0    0.637056\n",
       "1    0.362944\n",
       "dtype: float64"
      ]
     },
     "execution_count": 2,
     "metadata": {},
     "output_type": "execute_result"
    }
   ],
   "source": [
    "# total de não óbitos e óbitos da base de dados\n",
    "print(df[['obito']].groupby(['obito']).size().reset_index(name='count'))\n",
    "df[['obito']].groupby(['obito']).size()/df.shape[0]"
   ]
  },
  {
   "cell_type": "markdown",
   "id": "09ba169c",
   "metadata": {},
   "source": [
    "Na base de dados, 36% dos casos são de óbito e 64% de não óbito."
   ]
  },
  {
   "cell_type": "markdown",
   "id": "9f2ac32b",
   "metadata": {},
   "source": [
    "### Associação entre óbito e idade"
   ]
  },
  {
   "cell_type": "code",
   "execution_count": 3,
   "id": "8c309879",
   "metadata": {},
   "outputs": [
    {
     "data": {
      "image/png": "[encoded data removed]",
      "text/plain": [
       "<Figure size 432x288 with 1 Axes>"
      ]
     },
     "metadata": {
      "needs_background": "light"
     },
     "output_type": "display_data"
    }
   ],
   "source": [
    "sns.boxplot(y=df[\"idade\"],x=df[\"obito\"], palette=\"Blues\");"
   ]
  },
  {
   "cell_type": "code",
   "execution_count": 4,
   "id": "40888afe",
   "metadata": {},
   "outputs": [
    {
     "data": {
      "image/png": "[encoded data removed]",
      "text/plain": [
       "<Figure size 432x288 with 1 Axes>"
      ]
     },
     "metadata": {
      "needs_background": "light"
     },
     "output_type": "display_data"
    }
   ],
   "source": [
    "sns.histplot(df, x=\"idade\", hue=\"obito\");"
   ]
  },
  {
   "cell_type": "markdown",
   "id": "81f4e8a3",
   "metadata": {},
   "source": [
    "A mediana para óbito ('obito'=1) é maior do que a mediana para não óbito ('obito'=0).<br>\n",
    "É uma pista de que quanto maior a idade maior o risco de óbito.<br>\n",
    "Entretanto, o IQ (intervalo interquartil) de ambos têm uma faixa de idades comum, indicando que uma análise mais aprofundada se faz necessária."
   ]
  },
  {
   "cell_type": "markdown",
   "id": "63184931",
   "metadata": {},
   "source": [
    "### Associação entre óbito e sexo"
   ]
  },
  {
   "cell_type": "code",
   "execution_count": 5,
   "id": "70eb8ef7",
   "metadata": {},
   "outputs": [
    {
     "data": {
      "text/html": [
       "<div>\n",
       "<style scoped>\n",
       "    .dataframe tbody tr th:only-of-type {\n",
       "        vertical-align: middle;\n",
       "    }\n",
       "\n",
       "    .dataframe tbody tr th {\n",
       "        vertical-align: top;\n",
       "    }\n",
       "\n",
       "    .dataframe thead th {\n",
       "        text-align: right;\n",
       "    }\n",
       "</style>\n",
       "<table border=\"1\" class=\"dataframe\">\n",
       "  <thead>\n",
       "    <tr style=\"text-align: right;\">\n",
       "      <th>sexo</th>\n",
       "      <th>0</th>\n",
       "      <th>1</th>\n",
       "    </tr>\n",
       "    <tr>\n",
       "      <th>obito</th>\n",
       "      <th></th>\n",
       "      <th></th>\n",
       "    </tr>\n",
       "  </thead>\n",
       "  <tbody>\n",
       "    <tr>\n",
       "      <th>0</th>\n",
       "      <td>400</td>\n",
       "      <td>353</td>\n",
       "    </tr>\n",
       "    <tr>\n",
       "      <th>1</th>\n",
       "      <td>232</td>\n",
       "      <td>197</td>\n",
       "    </tr>\n",
       "  </tbody>\n",
       "</table>\n",
       "</div>"
      ],
      "text/plain": [
       "sexo     0    1\n",
       "obito          \n",
       "0      400  353\n",
       "1      232  197"
      ]
     },
     "execution_count": 5,
     "metadata": {},
     "output_type": "execute_result"
    }
   ],
   "source": [
    "# Tabela de dupla entrada\n",
    "tabela_dupla = pd.crosstab(index=df['obito'], columns=df['sexo'])\n",
    "tabela_dupla"
   ]
  },
  {
   "cell_type": "code",
   "execution_count": 6,
   "id": "e80c9dfe",
   "metadata": {},
   "outputs": [
    {
     "data": {
      "text/html": [
       "<div>\n",
       "<style scoped>\n",
       "    .dataframe tbody tr th:only-of-type {\n",
       "        vertical-align: middle;\n",
       "    }\n",
       "\n",
       "    .dataframe tbody tr th {\n",
       "        vertical-align: top;\n",
       "    }\n",
       "\n",
       "    .dataframe thead th {\n",
       "        text-align: right;\n",
       "    }\n",
       "</style>\n",
       "<table border=\"1\" class=\"dataframe\">\n",
       "  <thead>\n",
       "    <tr style=\"text-align: right;\">\n",
       "      <th>sexo</th>\n",
       "      <th>0</th>\n",
       "      <th>1</th>\n",
       "    </tr>\n",
       "    <tr>\n",
       "      <th>obito</th>\n",
       "      <th></th>\n",
       "      <th></th>\n",
       "    </tr>\n",
       "  </thead>\n",
       "  <tbody>\n",
       "    <tr>\n",
       "      <th>0</th>\n",
       "      <td>0.633</td>\n",
       "      <td>0.642</td>\n",
       "    </tr>\n",
       "    <tr>\n",
       "      <th>1</th>\n",
       "      <td>0.367</td>\n",
       "      <td>0.358</td>\n",
       "    </tr>\n",
       "  </tbody>\n",
       "</table>\n",
       "</div>"
      ],
      "text/plain": [
       "sexo       0      1\n",
       "obito              \n",
       "0      0.633  0.642\n",
       "1      0.367  0.358"
      ]
     },
     "execution_count": 6,
     "metadata": {},
     "output_type": "execute_result"
    }
   ],
   "source": [
    "tabela_dupla_prop = tabela_dupla/tabela_dupla.sum()\n",
    "tabela_dupla_prop.round(3)"
   ]
  },
  {
   "cell_type": "code",
   "execution_count": 7,
   "id": "8a663252",
   "metadata": {},
   "outputs": [
    {
     "data": {
      "image/png": "[encoded data removed]",
      "text/plain": [
       "<Figure size 432x288 with 1 Axes>"
      ]
     },
     "metadata": {
      "needs_background": "light"
     },
     "output_type": "display_data"
    }
   ],
   "source": [
    "tabela_dupla.plot.bar(stacked=True)\n",
    "plt.legend(title='Sexo')\n",
    "plt.show()"
   ]
  },
  {
   "cell_type": "code",
   "execution_count": 8,
   "id": "ff831f36",
   "metadata": {},
   "outputs": [
    {
     "data": {
      "image/png": "[encoded data removed]",
      "text/plain": [
       "<Figure size 432x288 with 1 Axes>"
      ]
     },
     "metadata": {
      "needs_background": "light"
     },
     "output_type": "display_data"
    }
   ],
   "source": [
    "tabela_dupla = pd.crosstab(index=df['sexo'], columns=df['obito'])\n",
    "tabela_dupla_prop = tabela_dupla/tabela_dupla.sum()\n",
    "tabela_dupla_prop.plot.bar(stacked=True)\n",
    "plt.legend(title='Óbito')\n",
    "plt.show()"
   ]
  },
  {
   "cell_type": "markdown",
   "id": "e5a42e8c",
   "metadata": {},
   "source": [
    "Uma vez infectado, a taxa de óbito para ambos os sexos é muito similar, próximo a 36%, a mesma do total do dataframe, sendo uma pista de que não há uma correlação entre esses fatores.<br>"
   ]
  },
  {
   "cell_type": "markdown",
   "id": "4950b075",
   "metadata": {},
   "source": [
    "### Associação entre óbito e asma"
   ]
  },
  {
   "cell_type": "code",
   "execution_count": 9,
   "id": "99ef2e0e",
   "metadata": {},
   "outputs": [
    {
     "data": {
      "text/html": [
       "<div>\n",
       "<style scoped>\n",
       "    .dataframe tbody tr th:only-of-type {\n",
       "        vertical-align: middle;\n",
       "    }\n",
       "\n",
       "    .dataframe tbody tr th {\n",
       "        vertical-align: top;\n",
       "    }\n",
       "\n",
       "    .dataframe thead th {\n",
       "        text-align: right;\n",
       "    }\n",
       "</style>\n",
       "<table border=\"1\" class=\"dataframe\">\n",
       "  <thead>\n",
       "    <tr style=\"text-align: right;\">\n",
       "      <th>asma</th>\n",
       "      <th>0</th>\n",
       "      <th>1</th>\n",
       "    </tr>\n",
       "    <tr>\n",
       "      <th>obito</th>\n",
       "      <th></th>\n",
       "      <th></th>\n",
       "    </tr>\n",
       "  </thead>\n",
       "  <tbody>\n",
       "    <tr>\n",
       "      <th>0</th>\n",
       "      <td>722</td>\n",
       "      <td>31</td>\n",
       "    </tr>\n",
       "    <tr>\n",
       "      <th>1</th>\n",
       "      <td>417</td>\n",
       "      <td>12</td>\n",
       "    </tr>\n",
       "  </tbody>\n",
       "</table>\n",
       "</div>"
      ],
      "text/plain": [
       "asma     0   1\n",
       "obito         \n",
       "0      722  31\n",
       "1      417  12"
      ]
     },
     "execution_count": 9,
     "metadata": {},
     "output_type": "execute_result"
    }
   ],
   "source": [
    "tabela_dupla = pd.crosstab(index=df['obito'], columns=df['asma'])\n",
    "tabela_dupla"
   ]
  },
  {
   "cell_type": "code",
   "execution_count": 10,
   "id": "a8a4353f",
   "metadata": {},
   "outputs": [
    {
     "data": {
      "text/html": [
       "<div>\n",
       "<style scoped>\n",
       "    .dataframe tbody tr th:only-of-type {\n",
       "        vertical-align: middle;\n",
       "    }\n",
       "\n",
       "    .dataframe tbody tr th {\n",
       "        vertical-align: top;\n",
       "    }\n",
       "\n",
       "    .dataframe thead th {\n",
       "        text-align: right;\n",
       "    }\n",
       "</style>\n",
       "<table border=\"1\" class=\"dataframe\">\n",
       "  <thead>\n",
       "    <tr style=\"text-align: right;\">\n",
       "      <th>asma</th>\n",
       "      <th>0</th>\n",
       "      <th>1</th>\n",
       "    </tr>\n",
       "    <tr>\n",
       "      <th>obito</th>\n",
       "      <th></th>\n",
       "      <th></th>\n",
       "    </tr>\n",
       "  </thead>\n",
       "  <tbody>\n",
       "    <tr>\n",
       "      <th>0</th>\n",
       "      <td>0.634</td>\n",
       "      <td>0.721</td>\n",
       "    </tr>\n",
       "    <tr>\n",
       "      <th>1</th>\n",
       "      <td>0.366</td>\n",
       "      <td>0.279</td>\n",
       "    </tr>\n",
       "  </tbody>\n",
       "</table>\n",
       "</div>"
      ],
      "text/plain": [
       "asma       0      1\n",
       "obito              \n",
       "0      0.634  0.721\n",
       "1      0.366  0.279"
      ]
     },
     "execution_count": 10,
     "metadata": {},
     "output_type": "execute_result"
    }
   ],
   "source": [
    "tab = tabela_dupla/tabela_dupla.sum()\n",
    "tab.round(3)"
   ]
  },
  {
   "cell_type": "code",
   "execution_count": 11,
   "id": "c5afeee0",
   "metadata": {},
   "outputs": [
    {
     "data": {
      "image/png": "[encoded data removed]",
      "text/plain": [
       "<Figure size 432x288 with 1 Axes>"
      ]
     },
     "metadata": {
      "needs_background": "light"
     },
     "output_type": "display_data"
    }
   ],
   "source": [
    "tabela_dupla.plot.bar(stacked=True)\n",
    "plt.legend(title='Asma')\n",
    "plt.show()"
   ]
  },
  {
   "cell_type": "markdown",
   "id": "445d738b",
   "metadata": {},
   "source": [
    "Não há um aumento na taxa de morte para os portadores de asma uma vez infectados pelo vírus da covid-19, pelo contrário, há uma redução.<br>\n",
    "Porém, há um número muito pequeno de observações de casos de asma, o que pode ocasionar distorções nas conclusões."
   ]
  },
  {
   "cell_type": "markdown",
   "id": "a3e454b0",
   "metadata": {},
   "source": [
    "### Associação entre óbito e cardiopatia"
   ]
  },
  {
   "cell_type": "code",
   "execution_count": 12,
   "id": "433d50e9",
   "metadata": {},
   "outputs": [
    {
     "data": {
      "text/html": [
       "<div>\n",
       "<style scoped>\n",
       "    .dataframe tbody tr th:only-of-type {\n",
       "        vertical-align: middle;\n",
       "    }\n",
       "\n",
       "    .dataframe tbody tr th {\n",
       "        vertical-align: top;\n",
       "    }\n",
       "\n",
       "    .dataframe thead th {\n",
       "        text-align: right;\n",
       "    }\n",
       "</style>\n",
       "<table border=\"1\" class=\"dataframe\">\n",
       "  <thead>\n",
       "    <tr style=\"text-align: right;\">\n",
       "      <th>cardiopatia</th>\n",
       "      <th>0</th>\n",
       "      <th>1</th>\n",
       "    </tr>\n",
       "    <tr>\n",
       "      <th>obito</th>\n",
       "      <th></th>\n",
       "      <th></th>\n",
       "    </tr>\n",
       "  </thead>\n",
       "  <tbody>\n",
       "    <tr>\n",
       "      <th>0</th>\n",
       "      <td>366</td>\n",
       "      <td>387</td>\n",
       "    </tr>\n",
       "    <tr>\n",
       "      <th>1</th>\n",
       "      <td>183</td>\n",
       "      <td>246</td>\n",
       "    </tr>\n",
       "  </tbody>\n",
       "</table>\n",
       "</div>"
      ],
      "text/plain": [
       "cardiopatia    0    1\n",
       "obito                \n",
       "0            366  387\n",
       "1            183  246"
      ]
     },
     "execution_count": 12,
     "metadata": {},
     "output_type": "execute_result"
    }
   ],
   "source": [
    "tabela_dupla = pd.crosstab(index=df['obito'], columns=df['cardiopatia'])\n",
    "tabela_dupla"
   ]
  },
  {
   "cell_type": "code",
   "execution_count": 13,
   "id": "52eb2b07",
   "metadata": {},
   "outputs": [
    {
     "data": {
      "text/html": [
       "<div>\n",
       "<style scoped>\n",
       "    .dataframe tbody tr th:only-of-type {\n",
       "        vertical-align: middle;\n",
       "    }\n",
       "\n",
       "    .dataframe tbody tr th {\n",
       "        vertical-align: top;\n",
       "    }\n",
       "\n",
       "    .dataframe thead th {\n",
       "        text-align: right;\n",
       "    }\n",
       "</style>\n",
       "<table border=\"1\" class=\"dataframe\">\n",
       "  <thead>\n",
       "    <tr style=\"text-align: right;\">\n",
       "      <th>cardiopatia</th>\n",
       "      <th>0</th>\n",
       "      <th>1</th>\n",
       "    </tr>\n",
       "    <tr>\n",
       "      <th>obito</th>\n",
       "      <th></th>\n",
       "      <th></th>\n",
       "    </tr>\n",
       "  </thead>\n",
       "  <tbody>\n",
       "    <tr>\n",
       "      <th>0</th>\n",
       "      <td>0.667</td>\n",
       "      <td>0.611</td>\n",
       "    </tr>\n",
       "    <tr>\n",
       "      <th>1</th>\n",
       "      <td>0.333</td>\n",
       "      <td>0.389</td>\n",
       "    </tr>\n",
       "  </tbody>\n",
       "</table>\n",
       "</div>"
      ],
      "text/plain": [
       "cardiopatia      0      1\n",
       "obito                    \n",
       "0            0.667  0.611\n",
       "1            0.333  0.389"
      ]
     },
     "execution_count": 13,
     "metadata": {},
     "output_type": "execute_result"
    }
   ],
   "source": [
    "tab = tabela_dupla/tabela_dupla.sum()\n",
    "tab.round(3)"
   ]
  },
  {
   "cell_type": "code",
   "execution_count": 14,
   "id": "be196aa8",
   "metadata": {},
   "outputs": [
    {
     "data": {
      "image/png": "[encoded data removed]",
      "text/plain": [
       "<Figure size 432x288 with 1 Axes>"
      ]
     },
     "metadata": {
      "needs_background": "light"
     },
     "output_type": "display_data"
    }
   ],
   "source": [
    "tabela_dupla.plot.bar(stacked=True)\n",
    "plt.legend(title='Cardiopatia')\n",
    "plt.show()"
   ]
  },
  {
   "cell_type": "markdown",
   "id": "e86a8058",
   "metadata": {},
   "source": [
    "Há um aumento na taxa de morte para os portadores de cardiopatia uma vez infectados pelo vírus da covid-19."
   ]
  },
  {
   "cell_type": "markdown",
   "id": "ee97b76a",
   "metadata": {},
   "source": [
    "### Associação entre óbito e diabetes"
   ]
  },
  {
   "cell_type": "code",
   "execution_count": 15,
   "id": "b3524f9e",
   "metadata": {},
   "outputs": [
    {
     "data": {
      "text/html": [
       "<div>\n",
       "<style scoped>\n",
       "    .dataframe tbody tr th:only-of-type {\n",
       "        vertical-align: middle;\n",
       "    }\n",
       "\n",
       "    .dataframe tbody tr th {\n",
       "        vertical-align: top;\n",
       "    }\n",
       "\n",
       "    .dataframe thead th {\n",
       "        text-align: right;\n",
       "    }\n",
       "</style>\n",
       "<table border=\"1\" class=\"dataframe\">\n",
       "  <thead>\n",
       "    <tr style=\"text-align: right;\">\n",
       "      <th>diabetes</th>\n",
       "      <th>0</th>\n",
       "      <th>1</th>\n",
       "    </tr>\n",
       "    <tr>\n",
       "      <th>obito</th>\n",
       "      <th></th>\n",
       "      <th></th>\n",
       "    </tr>\n",
       "  </thead>\n",
       "  <tbody>\n",
       "    <tr>\n",
       "      <th>0</th>\n",
       "      <td>497</td>\n",
       "      <td>256</td>\n",
       "    </tr>\n",
       "    <tr>\n",
       "      <th>1</th>\n",
       "      <td>248</td>\n",
       "      <td>181</td>\n",
       "    </tr>\n",
       "  </tbody>\n",
       "</table>\n",
       "</div>"
      ],
      "text/plain": [
       "diabetes    0    1\n",
       "obito             \n",
       "0         497  256\n",
       "1         248  181"
      ]
     },
     "execution_count": 15,
     "metadata": {},
     "output_type": "execute_result"
    }
   ],
   "source": [
    "tabela_dupla = pd.crosstab(index=df['obito'], columns=df['diabetes'])\n",
    "tabela_dupla"
   ]
  },
  {
   "cell_type": "code",
   "execution_count": 16,
   "id": "bb78006b",
   "metadata": {},
   "outputs": [
    {
     "data": {
      "text/html": [
       "<div>\n",
       "<style scoped>\n",
       "    .dataframe tbody tr th:only-of-type {\n",
       "        vertical-align: middle;\n",
       "    }\n",
       "\n",
       "    .dataframe tbody tr th {\n",
       "        vertical-align: top;\n",
       "    }\n",
       "\n",
       "    .dataframe thead th {\n",
       "        text-align: right;\n",
       "    }\n",
       "</style>\n",
       "<table border=\"1\" class=\"dataframe\">\n",
       "  <thead>\n",
       "    <tr style=\"text-align: right;\">\n",
       "      <th>diabetes</th>\n",
       "      <th>0</th>\n",
       "      <th>1</th>\n",
       "    </tr>\n",
       "    <tr>\n",
       "      <th>obito</th>\n",
       "      <th></th>\n",
       "      <th></th>\n",
       "    </tr>\n",
       "  </thead>\n",
       "  <tbody>\n",
       "    <tr>\n",
       "      <th>0</th>\n",
       "      <td>0.667</td>\n",
       "      <td>0.586</td>\n",
       "    </tr>\n",
       "    <tr>\n",
       "      <th>1</th>\n",
       "      <td>0.333</td>\n",
       "      <td>0.414</td>\n",
       "    </tr>\n",
       "  </tbody>\n",
       "</table>\n",
       "</div>"
      ],
      "text/plain": [
       "diabetes      0      1\n",
       "obito                 \n",
       "0         0.667  0.586\n",
       "1         0.333  0.414"
      ]
     },
     "execution_count": 16,
     "metadata": {},
     "output_type": "execute_result"
    }
   ],
   "source": [
    "tab = tabela_dupla/tabela_dupla.sum()\n",
    "tab.round(3)"
   ]
  },
  {
   "cell_type": "code",
   "execution_count": 17,
   "id": "4f929c47",
   "metadata": {},
   "outputs": [
    {
     "data": {
      "image/png": "[encoded data removed]",
      "text/plain": [
       "<Figure size 432x288 with 1 Axes>"
      ]
     },
     "metadata": {
      "needs_background": "light"
     },
     "output_type": "display_data"
    }
   ],
   "source": [
    "tabela_dupla.plot.bar(stacked=True)\n",
    "plt.legend(title='Diabetes')\n",
    "plt.show()"
   ]
  },
  {
   "cell_type": "markdown",
   "id": "06931ee4",
   "metadata": {},
   "source": [
    "Há um aumento na taxa de morte para os portadores de diabetes uma vez infectados pelo vírus da covid-19."
   ]
  },
  {
   "cell_type": "markdown",
   "id": "9ad47d71",
   "metadata": {},
   "source": [
    "### Associação entre óbito e doença renal"
   ]
  },
  {
   "cell_type": "code",
   "execution_count": 18,
   "id": "4ce3afaa",
   "metadata": {},
   "outputs": [
    {
     "data": {
      "text/html": [
       "<div>\n",
       "<style scoped>\n",
       "    .dataframe tbody tr th:only-of-type {\n",
       "        vertical-align: middle;\n",
       "    }\n",
       "\n",
       "    .dataframe tbody tr th {\n",
       "        vertical-align: top;\n",
       "    }\n",
       "\n",
       "    .dataframe thead th {\n",
       "        text-align: right;\n",
       "    }\n",
       "</style>\n",
       "<table border=\"1\" class=\"dataframe\">\n",
       "  <thead>\n",
       "    <tr style=\"text-align: right;\">\n",
       "      <th>doenca_renal</th>\n",
       "      <th>0</th>\n",
       "      <th>1</th>\n",
       "    </tr>\n",
       "    <tr>\n",
       "      <th>obito</th>\n",
       "      <th></th>\n",
       "      <th></th>\n",
       "    </tr>\n",
       "  </thead>\n",
       "  <tbody>\n",
       "    <tr>\n",
       "      <th>0</th>\n",
       "      <td>716</td>\n",
       "      <td>37</td>\n",
       "    </tr>\n",
       "    <tr>\n",
       "      <th>1</th>\n",
       "      <td>395</td>\n",
       "      <td>34</td>\n",
       "    </tr>\n",
       "  </tbody>\n",
       "</table>\n",
       "</div>"
      ],
      "text/plain": [
       "doenca_renal    0   1\n",
       "obito                \n",
       "0             716  37\n",
       "1             395  34"
      ]
     },
     "execution_count": 18,
     "metadata": {},
     "output_type": "execute_result"
    }
   ],
   "source": [
    "tabela_dupla = pd.crosstab(index=df['obito'], columns=df['doenca_renal'])\n",
    "tabela_dupla"
   ]
  },
  {
   "cell_type": "code",
   "execution_count": 19,
   "id": "e3f1f97c",
   "metadata": {},
   "outputs": [
    {
     "data": {
      "text/html": [
       "<div>\n",
       "<style scoped>\n",
       "    .dataframe tbody tr th:only-of-type {\n",
       "        vertical-align: middle;\n",
       "    }\n",
       "\n",
       "    .dataframe tbody tr th {\n",
       "        vertical-align: top;\n",
       "    }\n",
       "\n",
       "    .dataframe thead th {\n",
       "        text-align: right;\n",
       "    }\n",
       "</style>\n",
       "<table border=\"1\" class=\"dataframe\">\n",
       "  <thead>\n",
       "    <tr style=\"text-align: right;\">\n",
       "      <th>doenca_renal</th>\n",
       "      <th>0</th>\n",
       "      <th>1</th>\n",
       "    </tr>\n",
       "    <tr>\n",
       "      <th>obito</th>\n",
       "      <th></th>\n",
       "      <th></th>\n",
       "    </tr>\n",
       "  </thead>\n",
       "  <tbody>\n",
       "    <tr>\n",
       "      <th>0</th>\n",
       "      <td>0.644</td>\n",
       "      <td>0.521</td>\n",
       "    </tr>\n",
       "    <tr>\n",
       "      <th>1</th>\n",
       "      <td>0.356</td>\n",
       "      <td>0.479</td>\n",
       "    </tr>\n",
       "  </tbody>\n",
       "</table>\n",
       "</div>"
      ],
      "text/plain": [
       "doenca_renal      0      1\n",
       "obito                     \n",
       "0             0.644  0.521\n",
       "1             0.356  0.479"
      ]
     },
     "execution_count": 19,
     "metadata": {},
     "output_type": "execute_result"
    }
   ],
   "source": [
    "tab = tabela_dupla/tabela_dupla.sum()\n",
    "tab.round(3)"
   ]
  },
  {
   "cell_type": "code",
   "execution_count": 20,
   "id": "fae0689f",
   "metadata": {},
   "outputs": [
    {
     "data": {
      "image/png": "[encoded data removed]",
      "text/plain": [
       "<Figure size 432x288 with 1 Axes>"
      ]
     },
     "metadata": {
      "needs_background": "light"
     },
     "output_type": "display_data"
    }
   ],
   "source": [
    "tabela_dupla.plot.bar(stacked=True)\n",
    "plt.legend(title='Doença Renal')\n",
    "plt.show()"
   ]
  },
  {
   "cell_type": "markdown",
   "id": "560de8b8",
   "metadata": {},
   "source": [
    "Há um aumento na taxa de morte para os portadores de doença renal uma vez infectados pelo vírus da covid-19.<br>\n",
    "Porém, há um número muito pequeno de observações de casos de doença renal, o que pode ocasionar distorções nas conclusões."
   ]
  },
  {
   "cell_type": "markdown",
   "id": "6a1d66b7",
   "metadata": {},
   "source": [
    "### Associação entre óbito e obesidade"
   ]
  },
  {
   "cell_type": "code",
   "execution_count": 21,
   "id": "38f3e49b",
   "metadata": {},
   "outputs": [
    {
     "data": {
      "text/html": [
       "<div>\n",
       "<style scoped>\n",
       "    .dataframe tbody tr th:only-of-type {\n",
       "        vertical-align: middle;\n",
       "    }\n",
       "\n",
       "    .dataframe tbody tr th {\n",
       "        vertical-align: top;\n",
       "    }\n",
       "\n",
       "    .dataframe thead th {\n",
       "        text-align: right;\n",
       "    }\n",
       "</style>\n",
       "<table border=\"1\" class=\"dataframe\">\n",
       "  <thead>\n",
       "    <tr style=\"text-align: right;\">\n",
       "      <th>obesidade</th>\n",
       "      <th>0</th>\n",
       "      <th>1</th>\n",
       "    </tr>\n",
       "    <tr>\n",
       "      <th>obito</th>\n",
       "      <th></th>\n",
       "      <th></th>\n",
       "    </tr>\n",
       "  </thead>\n",
       "  <tbody>\n",
       "    <tr>\n",
       "      <th>0</th>\n",
       "      <td>651</td>\n",
       "      <td>102</td>\n",
       "    </tr>\n",
       "    <tr>\n",
       "      <th>1</th>\n",
       "      <td>361</td>\n",
       "      <td>68</td>\n",
       "    </tr>\n",
       "  </tbody>\n",
       "</table>\n",
       "</div>"
      ],
      "text/plain": [
       "obesidade    0    1\n",
       "obito              \n",
       "0          651  102\n",
       "1          361   68"
      ]
     },
     "execution_count": 21,
     "metadata": {},
     "output_type": "execute_result"
    }
   ],
   "source": [
    "tabela_dupla = pd.crosstab(index=df['obito'], columns=df['obesidade'])\n",
    "tabela_dupla"
   ]
  },
  {
   "cell_type": "code",
   "execution_count": 22,
   "id": "f92fdcaa",
   "metadata": {},
   "outputs": [
    {
     "data": {
      "text/html": [
       "<div>\n",
       "<style scoped>\n",
       "    .dataframe tbody tr th:only-of-type {\n",
       "        vertical-align: middle;\n",
       "    }\n",
       "\n",
       "    .dataframe tbody tr th {\n",
       "        vertical-align: top;\n",
       "    }\n",
       "\n",
       "    .dataframe thead th {\n",
       "        text-align: right;\n",
       "    }\n",
       "</style>\n",
       "<table border=\"1\" class=\"dataframe\">\n",
       "  <thead>\n",
       "    <tr style=\"text-align: right;\">\n",
       "      <th>obesidade</th>\n",
       "      <th>0</th>\n",
       "      <th>1</th>\n",
       "    </tr>\n",
       "    <tr>\n",
       "      <th>obito</th>\n",
       "      <th></th>\n",
       "      <th></th>\n",
       "    </tr>\n",
       "  </thead>\n",
       "  <tbody>\n",
       "    <tr>\n",
       "      <th>0</th>\n",
       "      <td>0.643</td>\n",
       "      <td>0.6</td>\n",
       "    </tr>\n",
       "    <tr>\n",
       "      <th>1</th>\n",
       "      <td>0.357</td>\n",
       "      <td>0.4</td>\n",
       "    </tr>\n",
       "  </tbody>\n",
       "</table>\n",
       "</div>"
      ],
      "text/plain": [
       "obesidade      0    1\n",
       "obito                \n",
       "0          0.643  0.6\n",
       "1          0.357  0.4"
      ]
     },
     "execution_count": 22,
     "metadata": {},
     "output_type": "execute_result"
    }
   ],
   "source": [
    "tab = tabela_dupla/tabela_dupla.sum()\n",
    "tab.round(3)"
   ]
  },
  {
   "cell_type": "code",
   "execution_count": 23,
   "id": "9c9d0ae5",
   "metadata": {},
   "outputs": [
    {
     "data": {
      "image/png": "[encoded data removed]",
      "text/plain": [
       "<Figure size 432x288 with 1 Axes>"
      ]
     },
     "metadata": {
      "needs_background": "light"
     },
     "output_type": "display_data"
    }
   ],
   "source": [
    "tabela_dupla.plot.bar(stacked=True)\n",
    "plt.legend(title='Obesidade')\n",
    "plt.show()"
   ]
  },
  {
   "cell_type": "markdown",
   "id": "066b3baa",
   "metadata": {},
   "source": [
    "Há um aumento na taxa de morte para os portadores de obesidade uma vez infectados pelo vírus da covid-19.<br>"
   ]
  },
  {
   "cell_type": "markdown",
   "id": "e6229bd6",
   "metadata": {},
   "source": [
    "### Associações entre óbito e atributos selecionados - Conclusão - Análise Exploratória"
   ]
  },
  {
   "cell_type": "markdown",
   "id": "dcb798a4",
   "metadata": {},
   "source": [
    "Análise descritiva ou análise exploratória de dados (AED) efetuada acima tem como objetivos básicos:<br>\n",
    ". explorar os dados para descobrir ou identificar aspectos ou padrões de maior interesse,<br>\n",
    ". representar os dados de forma a destacar ou chamar a atenção para aspectos ou padrões que podem ou não se confirmar inferencialmente.<br>\n",
    "\n",
    "Com base nas análises de visualização e exploração de dados, parece existir associação entre 'óbito' e as variáveis 'idade', 'cardiopatia', 'diabetes', 'doenca_renal', 'obesidade' e 'asma', sendo que essa última apresenta uma possível correlação negativa.<br>\n",
    "Da mesma forma essa análise indicou que o risco de 'óbito' possivelmente não esteja associada ao 'sexo'.<br>\n",
    "\n",
    "Embora sejam indicativos baseados em dados, não é possível concluir estatisticamente se existe ou não associação entre as variáveis apenas com análise exploratória, sendo necessária uma análise confirmatória através de análises inferenciais."
   ]
  },
  {
   "cell_type": "markdown",
   "id": "7a92581b",
   "metadata": {},
   "source": [
    "## Questão 4:"
   ]
  },
  {
   "cell_type": "code",
   "execution_count": 24,
   "id": "d0c10ae4",
   "metadata": {},
   "outputs": [
    {
     "name": "stdout",
     "output_type": "stream",
     "text": [
      "                 Generalized Linear Model Regression Results                  \n",
      "==============================================================================\n",
      "Dep. Variable:                  obito   No. Observations:                 1182\n",
      "Model:                            GLM   Df Residuals:                     1174\n",
      "Model Family:                Binomial   Df Model:                            7\n",
      "Link Function:                  logit   Scale:                          1.0000\n",
      "Method:                          IRLS   Log-Likelihood:                -714.90\n",
      "Date:                Wed, 16 Jun 2021   Deviance:                       1429.8\n",
      "Time:                        08:20:55   Pearson chi2:                 1.21e+03\n",
      "No. Iterations:                     4                                         \n",
      "Covariance Type:            nonrobust                                         \n",
      "================================================================================\n",
      "                   coef    std err          z      P>|z|      [0.025      0.975]\n",
      "--------------------------------------------------------------------------------\n",
      "const           -3.4709      0.317    -10.948      0.000      -4.092      -2.850\n",
      "idade            0.0442      0.005      9.396      0.000       0.035       0.053\n",
      "sexo            -0.1438      0.129     -1.114      0.265      -0.397       0.109\n",
      "asma            -0.3582      0.366     -0.980      0.327      -1.075       0.358\n",
      "cardiopatia     -0.0642      0.131     -0.490      0.624      -0.321       0.192\n",
      "diabetes         0.2654      0.130      2.035      0.042       0.010       0.521\n",
      "doenca_renal     0.4241      0.262      1.621      0.105      -0.089       0.937\n",
      "obesidade        0.6619      0.186      3.553      0.000       0.297       1.027\n",
      "================================================================================\n"
     ]
    }
   ],
   "source": [
    "# Adicionando uma coluna de uns referente ao intercepto\n",
    "n=len(df)\n",
    "df.loc[:,'const']  = np.ones(n).reshape(n,1)\n",
    "\n",
    "attributes = df[['const', 'idade', 'sexo', 'asma', 'cardiopatia', 'diabetes', 'doenca_renal', 'obesidade']]\n",
    "target = df[['obito']]\n",
    "\n",
    "# O modelo de Regressão Logística é um caso de modelo binomial\n",
    "# Ajustando um modelo MLG com resposta binária com intercepto\n",
    "glm_binom = sm.GLM(target, attributes, family=sm.families.Binomial())\n",
    "res = glm_binom.fit()\n",
    "print(res.summary())"
   ]
  },
  {
   "cell_type": "markdown",
   "id": "7a05d2f0",
   "metadata": {},
   "source": [
    "Vamos continuar com a análise considerando que não é necessário fazer a seleção de atributos ou dividir a base em treinamento e teste, conforme enunciado."
   ]
  },
  {
   "cell_type": "markdown",
   "id": "9cfd7756",
   "metadata": {},
   "source": [
    "### Comorbidades de maior significância marginal"
   ]
  },
  {
   "cell_type": "code",
   "execution_count": 25,
   "id": "58190a8a",
   "metadata": {},
   "outputs": [
    {
     "data": {
      "text/plain": [
       "const           6.776014e-28\n",
       "idade           5.670621e-21\n",
       "obesidade       3.806654e-04\n",
       "diabetes        4.186797e-02\n",
       "doenca_renal    1.050339e-01\n",
       "sexo            2.652245e-01\n",
       "asma            3.271754e-01\n",
       "cardiopatia     6.241095e-01\n",
       "dtype: float64"
      ]
     },
     "execution_count": 25,
     "metadata": {},
     "output_type": "execute_result"
    }
   ],
   "source": [
    "comorb_sig = res.pvalues.sort_values()\n",
    "comorb_sig"
   ]
  },
  {
   "cell_type": "code",
   "execution_count": 26,
   "id": "eb81e984",
   "metadata": {},
   "outputs": [
    {
     "name": "stdout",
     "output_type": "stream",
     "text": [
      "Comorbidades de maior significância: ['obesidade', 'diabetes']\n"
     ]
    }
   ],
   "source": [
    "comorb_maior_sig = []\n",
    "count=0\n",
    "for i in range(len(comorb_sig)):\n",
    "    if count ==2:\n",
    "        break\n",
    "    if comorb_sig.index[i]=='const' or comorb_sig.index[i]=='idade' or comorb_sig.index[i]=='sexo':\n",
    "        continue\n",
    "    else:\n",
    "        comorb_maior_sig.append(comorb_sig.index[i])\n",
    "        count +=1\n",
    "        \n",
    "print(f\"Comorbidades de maior significância: {comorb_maior_sig}\")  "
   ]
  },
  {
   "cell_type": "code",
   "execution_count": 27,
   "id": "3a8443bd",
   "metadata": {},
   "outputs": [
    {
     "name": "stdout",
     "output_type": "stream",
     "text": [
      "Obesidade:\n",
      " Razão de Chances: 1.9385\n",
      "Aumento de percentual na chance de vir a óbito: 93.85 %\n",
      "\n",
      "Diabetes:\n",
      " Razão de Chances: 1.304\n",
      "Aumento de percentual na chance de vir a óbito: 30.40 %\n"
     ]
    }
   ],
   "source": [
    "# Impacto da presença das duas comorbidades com maior significância marginal utilizando a razão de chances.\n",
    "# OR: Opportunity Ratio\n",
    "\n",
    "# Obesidade\n",
    "OR_obesidade = np.exp(res.params['obesidade']).round(4)\n",
    "print('Obesidade:\\n', 'Razão de Chances:', OR_obesidade)\n",
    "print('Aumento de percentual na chance de vir a óbito: %.2f' % ((OR_obesidade - 1)*100), '%')\n",
    "\n",
    "# Diabetes\n",
    "OR_diabetes = np.exp(res.params['diabetes']).round(4)\n",
    "print('\\nDiabetes:\\n', 'Razão de Chances:', OR_diabetes)\n",
    "print('Aumento de percentual na chance de vir a óbito: %.2f' % ((OR_diabetes - 1)*100), '%')"
   ]
  },
  {
   "cell_type": "markdown",
   "id": "f4b0e49a",
   "metadata": {},
   "source": [
    "### Associações entre óbito e atributos selecionados - Análise Confirmatória - Conclusão"
   ]
  },
  {
   "cell_type": "markdown",
   "id": "99729b7a",
   "metadata": {},
   "source": [
    "Na análise exploratória de dados (AED), identificamos como possíveis associações com 'obito' as variáveis:  'idade', 'cardiopatia', 'diabetes', 'doenca_renal', 'obesidade' e 'asma', e sem associação a variável 'sexo'.<br>\n",
    "\n",
    "Num nível de confiança de 95%, ou seja, p-value 0.050, concluímos nessa análise confirmatória:<br>\n",
    "\n",
    "p-value < 0.050 (maior significância marginal): 'idade', 'obesidade', 'diabetes'<br>\n",
    "\n",
    "p-value > 0.050 (menor significância marginal): 'sexo', 'cardiopatia', 'doenca_renal', 'asma'<br>\n",
    "\n",
    "Portanto, 3 variáveis tiveram mudança de classificação: 'cardiopatia', 'doenca_renal', 'asma'<br>\n",
    "\n",
    "As demais tiveram sua associação ou não associação confirmadas nessa última análise.<br>\n"
   ]
  },
  {
   "cell_type": "code",
   "execution_count": null,
   "id": "20c6efd6",
   "metadata": {},
   "outputs": [],
   "source": []
  }
 ],
 "metadata": {
  "kernelspec": {
   "display_name": "Python 3",
   "language": "python",
   "name": "python3"
  },
  "language_info": {
   "codemirror_mode": {
    "name": "ipython",
    "version": 3
   },
   "file_extension": ".py",
   "mimetype": "text/x-python",
   "name": "python",
   "nbconvert_exporter": "python",
   "pygments_lexer": "ipython3",
   "version": "3.8.10"
  }
 },
 "nbformat": 4,
 "nbformat_minor": 5
}
