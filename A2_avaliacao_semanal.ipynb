{
 "cells": [
  {
   "cell_type": "markdown",
   "metadata": {},
   "source": [
    "# AS 2: Probabilidades"
   ]
  },
  {
   "cell_type": "markdown",
   "metadata": {},
   "source": [
    "Questão 1:   \n",
    "Lançando dois dados equilibrados, qual é a probabilidade de obter-se a soma maior do que 7:\n",
    "\n",
    "Escolha uma opção:   \n",
    "a. 12/36   \n",
    "<font color='red'>b. 15/36</font>      \n",
    "c. 10/36   \n",
    "d. 14/36   \n",
    "e. 7/36   "
   ]
  },
  {
   "cell_type": "markdown",
   "metadata": {},
   "source": [
    "Cálculo:   \n",
    "A: Soma > 7\n",
    "P = 15/36 = 0,4167"
   ]
  },
  {
   "cell_type": "code",
   "execution_count": 7,
   "metadata": {},
   "outputs": [
    {
     "name": "stdout",
     "output_type": "stream",
     "text": [
      "Probabilidade de que a soma das faces > 7: 0.4162\n"
     ]
    }
   ],
   "source": [
    "import random\n",
    "import numpy as np\n",
    "n = 10000 #numero de experimentos\n",
    "nA = 0\n",
    "faces = np.arange(1,7) #valores 1 a 6\n",
    "for i in range(0,n):\n",
    "    dado1 = random.choice(faces)\n",
    "    dado2 = random.choice(faces)\n",
    "    if ((dado1+dado2) > 7):\n",
    "        nA = nA + 1\n",
    "    \n",
    "nA = nA/n\n",
    "print('Probabilidade de que a soma das faces > 7:', nA)"
   ]
  },
  {
   "cell_type": "markdown",
   "metadata": {},
   "source": [
    "Questão 2:   \n",
    "Suponha que temos três moedas idênticas no formato, mas sendo que a primeira moeda tem ambos os lados vermelhos, a segunda tem ambos os lados azuis e a terceira tem um lado azul e o outro vermelho. A moedas são misturadas em uma caixa. Se retiramos uma moeda e mostramos um lado vermelho, qual é a probabilidade de que o outro lado seja azul?   \n",
    "\n",
    "Escolha uma opção:   \n",
    "a. 2/3   \n",
    "<font color='red'>b. 1/3</font>      \n",
    "c. 2/5   \n",
    "d. 1/2   \n",
    "e. 4/9   "
   ]
  },
  {
   "cell_type": "markdown",
   "metadata": {},
   "source": [
    "Cálculo:   \n",
    "Teorema de Bayes: 15:08   \n",
    "https://www.youtube.com/watch?v=sRfVDPJAkro&t=97s   \n",
    "\n",
    "Eventos:   \n",
    "VV: Retirar uma moeda com ambos os lados vermelhos   \n",
    "AA: Retirar uma moeda com ambos os lados azuis   \n",
    "VA: Retirar uma moeda com um lado de cada cor   \n",
    "V: O lado mostrado é Vermelho   \n",
    "\n",
    "P(VA|V) = P (VA inter V) / P(V)    \n",
    "P(V) = P(V inter VV) + P(V inter AA) + P(V inter VA)   \n",
    "P(VA|V)= P(V|VA).P(VA) / { P(V inter VA) + P(V inter AA) + P(V inter VV) } \n",
    "P(VA|V)= P(V|VA).P(VA) / { P(V|VA).P(VA) + P(V|AA).P(VA) + P(V|VV).P(VA) }   \n",
    "P(VA|V) = 1/2 . 1/3 / {   1/2 . 1/3   +   0 . 1/3   +   1 . 1/3   }\n",
    "P(VA|V) = 1/6  /  {  1/6 + 1/3  }   \n",
    "P(VA|V) = 1/6  /  3/6   \n",
    "P(VA|V) = 1/3   \n",
    "\n",
    "Pensando em espaço amostral do evento:   \n",
    "(Frente: A1, Atrás: A2)   \n",
    "(Frente: A2, Atrás: A1)   \n",
    "(Frente: V1, Atrás: V2)   \n",
    "(Frente: V2, Atrás: V1)   \n",
    "(Frente: A3, Atrás: V3)   \n",
    "(Frente: V3, Atrás: A3)   \n",
    "Selecionando os eventos com frente vermelha, você tem três possibilidades, em que uma das três é azul.   \n",
    "1/3"
   ]
  },
  {
   "cell_type": "code",
   "execution_count": 13,
   "metadata": {},
   "outputs": [
    {
     "name": "stdout",
     "output_type": "stream",
     "text": [
      "Prababilidade do Lado Escondido ser Azul Dado que o Lado Mostrado é Vermelho P(B|A): 0.33319663727701454\n"
     ]
    }
   ],
   "source": [
    "import random\n",
    "urna = ['1V','1V','2A','2A','3V','3A']\n",
    "# Evento A: Lado Mostrado é Vermelho\n",
    "# Evento B: Lado Escondido é Azul\n",
    "\n",
    "nA = 0\n",
    "nB = 0\n",
    "for i in range(0,n):\n",
    "    face = random.choice(urna)\n",
    "    if(face[1] == 'V'):\n",
    "        nA = nA + 1\n",
    "        if (face[0] == '3'):\n",
    "            nB = nB + 1\n",
    "print('Prababilidade do Lado Escondido ser Azul Dado que o Lado Mostrado é Vermelho P(B|A):', (nB/n)/(nA/n))"
   ]
  },
  {
   "cell_type": "markdown",
   "metadata": {},
   "source": [
    "Questão 3:   \n",
    "Um novo teste para determinar falhas em uma bateria produzida apresenta 95% de chance de indicar um defeito se o defeito realmente ocorreu (verdadeiro positivo). Se a bateria é perfeita, sem defeito, a chance de o teste indicar um defeito é 2% (falso positivo). Se em um lote, a chance de uma bateria com defeito é igual 1/100, calcule a probabilidade de uma bateria testada apresentar realmente defeito dado que o teste foi positivo.   \n",
    "\n",
    "Escolha uma opção:   \n",
    "<font color='red'>a. 0,32</font>   \n",
    "b. 0,42   \n",
    "c. 0,12   \n",
    "d. 0,55   \n",
    "e. 0,78"
   ]
  },
  {
   "cell_type": "markdown",
   "metadata": {},
   "source": [
    "Cálculo:   \n",
    "Vídeo-aula: 30:10     \n",
    "\n",
    "Eventos:   \n",
    "A: Bateria com defeito   \n",
    "B: Teste foi Positivo\n",
    "\n",
    "Teorema de Bayes   \n",
    "\n",
    "P(A|B) = P(B|A).P(A) / { P(B|A).P(A) + P(B|A complementar).P(A complementar) }   \n",
    "\n",
    "P(A|B) = 0,95 . 0,01 / { 0,95 . 0,01 + 0,02 . 0,99 }  \n",
    "\n",
    "P(A|B) = 0,32"
   ]
  },
  {
   "cell_type": "code",
   "execution_count": null,
   "metadata": {},
   "outputs": [],
   "source": []
  },
  {
   "cell_type": "markdown",
   "metadata": {},
   "source": [
    "Questão 4:   \n",
    "A variável aleatória X tem função densidade de probabilidade dada por:   \n",
    "f(x) = (x^2)/3 se -1<x<2; 0 caso contrário   \n",
    "\n",
    "Calcule P(0<=x<=2)   \n",
    "  \n",
    "Escolha uma opção:   \n",
    "a. 1/3   \n",
    "<font color='red'>b. 8/9</font>   \n",
    "c. 1/2   \n",
    "d. 4/5   \n",
    "e. 2/9"
   ]
  },
  {
   "cell_type": "markdown",
   "metadata": {},
   "source": [
    "Cálculo:   \n",
    "Vídeo-aula: 42:17     \n",
    "\n",
    "P(0<=x<=2) = Integral_0_a_2 f(x).dx = Integral_0_a_2 ((x^2)/3).dx   \n",
    "\n",
    "P(0<=x<=2) = (x^3)/3 . 1.3 (x=2) - (x=0)   \n",
    "\n",
    "P(0<=x<=2) = (x^3)/9 (x=2) - (x^3)/9 (x=0)\n",
    "\n",
    "P(0<=x<=2) = 8/9 - 0 = 8/9 = 0,8889\n",
    "\n",
    "https://www.wolframalpha.com/   \n",
    "integrate (x^2)/3 from 0 to 2   \n",
    "8/9 = 0,8889   \n"
   ]
  },
  {
   "cell_type": "code",
   "execution_count": null,
   "metadata": {},
   "outputs": [],
   "source": []
  }
 ],
 "metadata": {
  "kernelspec": {
   "display_name": "Python 3",
   "language": "python",
   "name": "python3"
  },
  "language_info": {
   "codemirror_mode": {
    "name": "ipython",
    "version": 3
   },
   "file_extension": ".py",
   "mimetype": "text/x-python",
   "name": "python",
   "nbconvert_exporter": "python",
   "pygments_lexer": "ipython3",
   "version": "3.8.10"
  }
 },
 "nbformat": 4,
 "nbformat_minor": 4
}
