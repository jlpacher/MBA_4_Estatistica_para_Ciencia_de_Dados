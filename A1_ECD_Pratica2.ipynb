{
 "cells": [
  {
   "cell_type": "markdown",
   "metadata": {},
   "source": [
    "# Prática 2\n",
    "\n",
    "***Estatística para Ciência de Dados***\n",
    "\n",
    "por **Cibele Russo**\n",
    "\n",
    "**ICMC/USP - São Carlos SP**\n",
    "\n"
   ]
  },
  {
   "cell_type": "markdown",
   "metadata": {},
   "source": [
    "## Visualização e Exploração de dados\n",
    "\n",
    "### Exemplo: Dados de COVID-19 no estado de SP\n",
    "\n",
    "Os dados em covid_cidades.csv referem-se aos registros de casos e mortes em **cidades** brasileiras no dia 29-12-2020. Desenvolva a visualização de dados de mortes registradas por **estado**, utilizando gráficos de setores, de barras e de Pareto. Analise a correlação entre casos e mortes registradas.\n",
    "\n",
    "Fonte: Brasil.IO: boletins epidemiológicos da COVID-19 por município por dia, disponível em: [https://brasil.io/datasets/](https://brasil.io/datasets/). "
   ]
  },
  {
   "cell_type": "code",
   "execution_count": 1,
   "metadata": {},
   "outputs": [],
   "source": [
    "import os.path\n",
    "import pandas as pd\n",
    "import matplotlib.pyplot as plt\n",
    "import numpy as np\n",
    "\n",
    "%matplotlib inline\n",
    "\n",
    "# pkgdir = '/home/cibele/CibelePython/ECD/Data'\n"
   ]
  },
  {
   "cell_type": "code",
   "execution_count": 2,
   "metadata": {},
   "outputs": [
    {
     "data": {
      "text/html": [
       "<div>\n",
       "<style scoped>\n",
       "    .dataframe tbody tr th:only-of-type {\n",
       "        vertical-align: middle;\n",
       "    }\n",
       "\n",
       "    .dataframe tbody tr th {\n",
       "        vertical-align: top;\n",
       "    }\n",
       "\n",
       "    .dataframe thead th {\n",
       "        text-align: right;\n",
       "    }\n",
       "</style>\n",
       "<table border=\"1\" class=\"dataframe\">\n",
       "  <thead>\n",
       "    <tr style=\"text-align: right;\">\n",
       "      <th></th>\n",
       "      <th>state</th>\n",
       "      <th>city</th>\n",
       "      <th>confirmed</th>\n",
       "      <th>deaths</th>\n",
       "      <th>estimated_population_2019</th>\n",
       "      <th>confirmed_per_100k_inhabitants</th>\n",
       "      <th>death_rate</th>\n",
       "    </tr>\n",
       "    <tr>\n",
       "      <th>date</th>\n",
       "      <th></th>\n",
       "      <th></th>\n",
       "      <th></th>\n",
       "      <th></th>\n",
       "      <th></th>\n",
       "      <th></th>\n",
       "      <th></th>\n",
       "    </tr>\n",
       "  </thead>\n",
       "  <tbody>\n",
       "    <tr>\n",
       "      <th>2020-12-29</th>\n",
       "      <td>AP</td>\n",
       "      <td>Amapá</td>\n",
       "      <td>956</td>\n",
       "      <td>6</td>\n",
       "      <td>9109.0</td>\n",
       "      <td>10406.00849</td>\n",
       "      <td>0.0063</td>\n",
       "    </tr>\n",
       "    <tr>\n",
       "      <th>2020-12-29</th>\n",
       "      <td>AP</td>\n",
       "      <td>Calçoene</td>\n",
       "      <td>1436</td>\n",
       "      <td>7</td>\n",
       "      <td>11117.0</td>\n",
       "      <td>12701.22059</td>\n",
       "      <td>0.0049</td>\n",
       "    </tr>\n",
       "    <tr>\n",
       "      <th>2020-12-29</th>\n",
       "      <td>AP</td>\n",
       "      <td>Cutias</td>\n",
       "      <td>741</td>\n",
       "      <td>2</td>\n",
       "      <td>5983.0</td>\n",
       "      <td>12145.54991</td>\n",
       "      <td>0.0027</td>\n",
       "    </tr>\n",
       "    <tr>\n",
       "      <th>2020-12-29</th>\n",
       "      <td>AP</td>\n",
       "      <td>Ferreira Gomes</td>\n",
       "      <td>930</td>\n",
       "      <td>5</td>\n",
       "      <td>7780.0</td>\n",
       "      <td>11673.15175</td>\n",
       "      <td>0.0054</td>\n",
       "    </tr>\n",
       "    <tr>\n",
       "      <th>2020-12-29</th>\n",
       "      <td>AP</td>\n",
       "      <td>Itaubal</td>\n",
       "      <td>345</td>\n",
       "      <td>0</td>\n",
       "      <td>5503.0</td>\n",
       "      <td>6142.06872</td>\n",
       "      <td>0.0000</td>\n",
       "    </tr>\n",
       "  </tbody>\n",
       "</table>\n",
       "</div>"
      ],
      "text/plain": [
       "           state            city  confirmed  deaths  \\\n",
       "date                                                  \n",
       "2020-12-29    AP           Amapá        956       6   \n",
       "2020-12-29    AP        Calçoene       1436       7   \n",
       "2020-12-29    AP          Cutias        741       2   \n",
       "2020-12-29    AP  Ferreira Gomes        930       5   \n",
       "2020-12-29    AP         Itaubal        345       0   \n",
       "\n",
       "            estimated_population_2019  confirmed_per_100k_inhabitants  \\\n",
       "date                                                                    \n",
       "2020-12-29                     9109.0                     10406.00849   \n",
       "2020-12-29                    11117.0                     12701.22059   \n",
       "2020-12-29                     5983.0                     12145.54991   \n",
       "2020-12-29                     7780.0                     11673.15175   \n",
       "2020-12-29                     5503.0                      6142.06872   \n",
       "\n",
       "            death_rate  \n",
       "date                    \n",
       "2020-12-29      0.0063  \n",
       "2020-12-29      0.0049  \n",
       "2020-12-29      0.0027  \n",
       "2020-12-29      0.0054  \n",
       "2020-12-29      0.0000  "
      ]
     },
     "execution_count": 2,
     "metadata": {},
     "output_type": "execute_result"
    }
   ],
   "source": [
    "# COVID - Leitura dos dados\n",
    "# covid = pd.read_csv(f'{pkgdir}/covid_cidades.csv', index_col='date', parse_dates=True)\n",
    "covid = pd.read_csv('covid_cidades.csv', index_col='date', parse_dates=True)\n",
    "\n",
    "covid.head()"
   ]
  },
  {
   "cell_type": "code",
   "execution_count": 3,
   "metadata": {},
   "outputs": [
    {
     "data": {
      "text/plain": [
       "5536"
      ]
     },
     "execution_count": 3,
     "metadata": {},
     "output_type": "execute_result"
    }
   ],
   "source": [
    "len(covid)"
   ]
  },
  {
   "cell_type": "markdown",
   "metadata": {},
   "source": [
    "**Os dados são apresentados por cidades. Faça o agrupamento de dados por estados.**"
   ]
  },
  {
   "cell_type": "code",
   "execution_count": 6,
   "metadata": {},
   "outputs": [],
   "source": [
    "# agrupando os dados por estado\n",
    "somas = covid.groupby(\"state\",as_index = False).sum()"
   ]
  },
  {
   "cell_type": "markdown",
   "metadata": {},
   "source": [
    "**Para uma melhor visualização dos gráficos, ordene a base de forma decrescente por mortes nos estados.**"
   ]
  },
  {
   "cell_type": "code",
   "execution_count": null,
   "metadata": {},
   "outputs": [],
   "source": []
  },
  {
   "cell_type": "code",
   "execution_count": 7,
   "metadata": {},
   "outputs": [
    {
     "data": {
      "text/html": [
       "<div>\n",
       "<style scoped>\n",
       "    .dataframe tbody tr th:only-of-type {\n",
       "        vertical-align: middle;\n",
       "    }\n",
       "\n",
       "    .dataframe tbody tr th {\n",
       "        vertical-align: top;\n",
       "    }\n",
       "\n",
       "    .dataframe thead th {\n",
       "        text-align: right;\n",
       "    }\n",
       "</style>\n",
       "<table border=\"1\" class=\"dataframe\">\n",
       "  <thead>\n",
       "    <tr style=\"text-align: right;\">\n",
       "      <th></th>\n",
       "      <th>state</th>\n",
       "      <th>confirmed</th>\n",
       "      <th>deaths</th>\n",
       "      <th>estimated_population_2019</th>\n",
       "      <th>confirmed_per_100k_inhabitants</th>\n",
       "      <th>death_rate</th>\n",
       "    </tr>\n",
       "  </thead>\n",
       "  <tbody>\n",
       "    <tr>\n",
       "      <th>24</th>\n",
       "      <td>SP</td>\n",
       "      <td>1440229</td>\n",
       "      <td>46195</td>\n",
       "      <td>45919049.0</td>\n",
       "      <td>1.708738e+06</td>\n",
       "      <td>16.8979</td>\n",
       "    </tr>\n",
       "    <tr>\n",
       "      <th>18</th>\n",
       "      <td>RJ</td>\n",
       "      <td>426259</td>\n",
       "      <td>25078</td>\n",
       "      <td>17264943.0</td>\n",
       "      <td>2.878304e+05</td>\n",
       "      <td>3.2501</td>\n",
       "    </tr>\n",
       "    <tr>\n",
       "      <th>10</th>\n",
       "      <td>MG</td>\n",
       "      <td>529653</td>\n",
       "      <td>11615</td>\n",
       "      <td>21168791.0</td>\n",
       "      <td>1.612620e+06</td>\n",
       "      <td>20.2186</td>\n",
       "    </tr>\n",
       "    <tr>\n",
       "      <th>5</th>\n",
       "      <td>CE</td>\n",
       "      <td>330986</td>\n",
       "      <td>9971</td>\n",
       "      <td>9132078.0</td>\n",
       "      <td>6.566612e+05</td>\n",
       "      <td>4.6634</td>\n",
       "    </tr>\n",
       "    <tr>\n",
       "      <th>15</th>\n",
       "      <td>PE</td>\n",
       "      <td>217772</td>\n",
       "      <td>9612</td>\n",
       "      <td>9557071.0</td>\n",
       "      <td>3.702344e+05</td>\n",
       "      <td>7.6460</td>\n",
       "    </tr>\n",
       "    <tr>\n",
       "      <th>4</th>\n",
       "      <td>BA</td>\n",
       "      <td>487691</td>\n",
       "      <td>9072</td>\n",
       "      <td>14873064.0</td>\n",
       "      <td>1.150643e+06</td>\n",
       "      <td>6.6745</td>\n",
       "    </tr>\n",
       "    <tr>\n",
       "      <th>21</th>\n",
       "      <td>RS</td>\n",
       "      <td>438458</td>\n",
       "      <td>8680</td>\n",
       "      <td>11377239.0</td>\n",
       "      <td>1.600758e+06</td>\n",
       "      <td>10.3128</td>\n",
       "    </tr>\n",
       "    <tr>\n",
       "      <th>17</th>\n",
       "      <td>PR</td>\n",
       "      <td>408731</td>\n",
       "      <td>7810</td>\n",
       "      <td>11433957.0</td>\n",
       "      <td>1.074915e+06</td>\n",
       "      <td>7.5628</td>\n",
       "    </tr>\n",
       "    <tr>\n",
       "      <th>13</th>\n",
       "      <td>PA</td>\n",
       "      <td>292712</td>\n",
       "      <td>7169</td>\n",
       "      <td>8602865.0</td>\n",
       "      <td>4.822244e+05</td>\n",
       "      <td>3.7332</td>\n",
       "    </tr>\n",
       "    <tr>\n",
       "      <th>8</th>\n",
       "      <td>GO</td>\n",
       "      <td>307686</td>\n",
       "      <td>6789</td>\n",
       "      <td>7018354.0</td>\n",
       "      <td>8.240545e+05</td>\n",
       "      <td>5.6447</td>\n",
       "    </tr>\n",
       "    <tr>\n",
       "      <th>2</th>\n",
       "      <td>AM</td>\n",
       "      <td>198201</td>\n",
       "      <td>5232</td>\n",
       "      <td>4144597.0</td>\n",
       "      <td>4.021734e+05</td>\n",
       "      <td>0.9667</td>\n",
       "    </tr>\n",
       "    <tr>\n",
       "      <th>22</th>\n",
       "      <td>SC</td>\n",
       "      <td>485935</td>\n",
       "      <td>5161</td>\n",
       "      <td>7164788.0</td>\n",
       "      <td>1.577086e+06</td>\n",
       "      <td>3.8099</td>\n",
       "    </tr>\n",
       "    <tr>\n",
       "      <th>7</th>\n",
       "      <td>ES</td>\n",
       "      <td>244251</td>\n",
       "      <td>5031</td>\n",
       "      <td>4018650.0</td>\n",
       "      <td>4.307890e+05</td>\n",
       "      <td>1.6198</td>\n",
       "    </tr>\n",
       "    <tr>\n",
       "      <th>9</th>\n",
       "      <td>MA</td>\n",
       "      <td>200564</td>\n",
       "      <td>4488</td>\n",
       "      <td>7075181.0</td>\n",
       "      <td>6.306338e+05</td>\n",
       "      <td>4.3175</td>\n",
       "    </tr>\n",
       "    <tr>\n",
       "      <th>12</th>\n",
       "      <td>MT</td>\n",
       "      <td>178568</td>\n",
       "      <td>4486</td>\n",
       "      <td>3484466.0</td>\n",
       "      <td>5.047512e+05</td>\n",
       "      <td>3.7873</td>\n",
       "    </tr>\n",
       "    <tr>\n",
       "      <th>6</th>\n",
       "      <td>DF</td>\n",
       "      <td>250457</td>\n",
       "      <td>4241</td>\n",
       "      <td>3015268.0</td>\n",
       "      <td>7.181417e+03</td>\n",
       "      <td>0.0291</td>\n",
       "    </tr>\n",
       "    <tr>\n",
       "      <th>14</th>\n",
       "      <td>PB</td>\n",
       "      <td>164416</td>\n",
       "      <td>3647</td>\n",
       "      <td>4018127.0</td>\n",
       "      <td>6.884364e+05</td>\n",
       "      <td>4.2302</td>\n",
       "    </tr>\n",
       "    <tr>\n",
       "      <th>19</th>\n",
       "      <td>RN</td>\n",
       "      <td>117542</td>\n",
       "      <td>2998</td>\n",
       "      <td>3506853.0</td>\n",
       "      <td>5.013278e+05</td>\n",
       "      <td>3.6628</td>\n",
       "    </tr>\n",
       "    <tr>\n",
       "      <th>16</th>\n",
       "      <td>PI</td>\n",
       "      <td>141951</td>\n",
       "      <td>2827</td>\n",
       "      <td>3273227.0</td>\n",
       "      <td>7.029834e+05</td>\n",
       "      <td>5.0722</td>\n",
       "    </tr>\n",
       "    <tr>\n",
       "      <th>1</th>\n",
       "      <td>AL</td>\n",
       "      <td>104119</td>\n",
       "      <td>2475</td>\n",
       "      <td>3337357.0</td>\n",
       "      <td>2.508014e+05</td>\n",
       "      <td>3.6834</td>\n",
       "    </tr>\n",
       "    <tr>\n",
       "      <th>23</th>\n",
       "      <td>SE</td>\n",
       "      <td>110804</td>\n",
       "      <td>2468</td>\n",
       "      <td>2298696.0</td>\n",
       "      <td>2.527409e+05</td>\n",
       "      <td>2.3213</td>\n",
       "    </tr>\n",
       "    <tr>\n",
       "      <th>11</th>\n",
       "      <td>MS</td>\n",
       "      <td>132431</td>\n",
       "      <td>2300</td>\n",
       "      <td>2778986.0</td>\n",
       "      <td>2.444036e+05</td>\n",
       "      <td>1.4794</td>\n",
       "    </tr>\n",
       "    <tr>\n",
       "      <th>25</th>\n",
       "      <td>TO</td>\n",
       "      <td>90047</td>\n",
       "      <td>1232</td>\n",
       "      <td>1572866.0</td>\n",
       "      <td>5.499540e+05</td>\n",
       "      <td>2.3660</td>\n",
       "    </tr>\n",
       "    <tr>\n",
       "      <th>3</th>\n",
       "      <td>AP</td>\n",
       "      <td>67405</td>\n",
       "      <td>913</td>\n",
       "      <td>845731.0</td>\n",
       "      <td>1.740958e+05</td>\n",
       "      <td>0.1133</td>\n",
       "    </tr>\n",
       "    <tr>\n",
       "      <th>0</th>\n",
       "      <td>AC</td>\n",
       "      <td>41232</td>\n",
       "      <td>791</td>\n",
       "      <td>881935.0</td>\n",
       "      <td>1.011945e+05</td>\n",
       "      <td>0.3353</td>\n",
       "    </tr>\n",
       "    <tr>\n",
       "      <th>20</th>\n",
       "      <td>RR</td>\n",
       "      <td>68509</td>\n",
       "      <td>773</td>\n",
       "      <td>605761.0</td>\n",
       "      <td>1.144925e+05</td>\n",
       "      <td>0.2253</td>\n",
       "    </tr>\n",
       "  </tbody>\n",
       "</table>\n",
       "</div>"
      ],
      "text/plain": [
       "   state  confirmed  deaths  estimated_population_2019  \\\n",
       "24    SP    1440229   46195                 45919049.0   \n",
       "18    RJ     426259   25078                 17264943.0   \n",
       "10    MG     529653   11615                 21168791.0   \n",
       "5     CE     330986    9971                  9132078.0   \n",
       "15    PE     217772    9612                  9557071.0   \n",
       "4     BA     487691    9072                 14873064.0   \n",
       "21    RS     438458    8680                 11377239.0   \n",
       "17    PR     408731    7810                 11433957.0   \n",
       "13    PA     292712    7169                  8602865.0   \n",
       "8     GO     307686    6789                  7018354.0   \n",
       "2     AM     198201    5232                  4144597.0   \n",
       "22    SC     485935    5161                  7164788.0   \n",
       "7     ES     244251    5031                  4018650.0   \n",
       "9     MA     200564    4488                  7075181.0   \n",
       "12    MT     178568    4486                  3484466.0   \n",
       "6     DF     250457    4241                  3015268.0   \n",
       "14    PB     164416    3647                  4018127.0   \n",
       "19    RN     117542    2998                  3506853.0   \n",
       "16    PI     141951    2827                  3273227.0   \n",
       "1     AL     104119    2475                  3337357.0   \n",
       "23    SE     110804    2468                  2298696.0   \n",
       "11    MS     132431    2300                  2778986.0   \n",
       "25    TO      90047    1232                  1572866.0   \n",
       "3     AP      67405     913                   845731.0   \n",
       "0     AC      41232     791                   881935.0   \n",
       "20    RR      68509     773                   605761.0   \n",
       "\n",
       "    confirmed_per_100k_inhabitants  death_rate  \n",
       "24                    1.708738e+06     16.8979  \n",
       "18                    2.878304e+05      3.2501  \n",
       "10                    1.612620e+06     20.2186  \n",
       "5                     6.566612e+05      4.6634  \n",
       "15                    3.702344e+05      7.6460  \n",
       "4                     1.150643e+06      6.6745  \n",
       "21                    1.600758e+06     10.3128  \n",
       "17                    1.074915e+06      7.5628  \n",
       "13                    4.822244e+05      3.7332  \n",
       "8                     8.240545e+05      5.6447  \n",
       "2                     4.021734e+05      0.9667  \n",
       "22                    1.577086e+06      3.8099  \n",
       "7                     4.307890e+05      1.6198  \n",
       "9                     6.306338e+05      4.3175  \n",
       "12                    5.047512e+05      3.7873  \n",
       "6                     7.181417e+03      0.0291  \n",
       "14                    6.884364e+05      4.2302  \n",
       "19                    5.013278e+05      3.6628  \n",
       "16                    7.029834e+05      5.0722  \n",
       "1                     2.508014e+05      3.6834  \n",
       "23                    2.527409e+05      2.3213  \n",
       "11                    2.444036e+05      1.4794  \n",
       "25                    5.499540e+05      2.3660  \n",
       "3                     1.740958e+05      0.1133  \n",
       "0                     1.011945e+05      0.3353  \n",
       "20                    1.144925e+05      0.2253  "
      ]
     },
     "execution_count": 7,
     "metadata": {},
     "output_type": "execute_result"
    }
   ],
   "source": [
    "somas = somas.sort_values(by='deaths', ascending=False)\n",
    "somas"
   ]
  },
  {
   "cell_type": "markdown",
   "metadata": {},
   "source": [
    "**Represente os dados de mortes por estados com um gráfico de setores.**"
   ]
  },
  {
   "cell_type": "code",
   "execution_count": 15,
   "metadata": {},
   "outputs": [
    {
     "data": {
      "image/png": "[encoded data removed]",
      "text/plain": [
       "<Figure size 432x288 with 1 Axes>"
      ]
     },
     "metadata": {},
     "output_type": "display_data"
    }
   ],
   "source": [
    "# Gráfico de setores (gráfico de pizza)\n",
    "\n",
    "labels = somas['state'].values\n",
    "sizes = somas['deaths'].values\n",
    "\n",
    "plt.pie(sizes, labels=labels)\n",
    "\n",
    "plt.axis('equal') #faz o gráfico circular\n",
    "plt.show()"
   ]
  },
  {
   "cell_type": "markdown",
   "metadata": {},
   "source": [
    "**Obtenha um gráfico de barras para as mortes por estados.**"
   ]
  },
  {
   "cell_type": "code",
   "execution_count": 18,
   "metadata": {},
   "outputs": [
    {
     "data": {
      "image/png": "[encoded data removed]",
      "text/plain": [
       "<Figure size 432x288 with 1 Axes>"
      ]
     },
     "metadata": {
      "needs_background": "light"
     },
     "output_type": "display_data"
    }
   ],
   "source": [
    "# Gráfico de barras\n",
    "\n",
    "labels = somas['state'].values\n",
    "sizes = somas['deaths'].values\n",
    "\n",
    "plt.bar(labels, height=sizes, color=)\n",
    "\n",
    "plt.show()"
   ]
  },
  {
   "cell_type": "code",
   "execution_count": 19,
   "metadata": {},
   "outputs": [
    {
     "data": {
      "image/png": "[encoded data removed]",
      "text/plain": [
       "<Figure size 432x288 with 1 Axes>"
      ]
     },
     "metadata": {
      "needs_background": "light"
     },
     "output_type": "display_data"
    }
   ],
   "source": [
    "import seaborn as sns\n",
    "\n",
    "ax = sns.barplot(x=\"state\", y=\"deaths\", data=somas)"
   ]
  },
  {
   "cell_type": "markdown",
   "metadata": {},
   "source": [
    "**Obtenha um gráfico de Pareto para as mortes por estados.**"
   ]
  },
  {
   "cell_type": "code",
   "execution_count": 20,
   "metadata": {},
   "outputs": [
    {
     "data": {
      "image/png": "[encoded data removed]",
      "text/plain": [
       "<Figure size 1440x720 with 2 Axes>"
      ]
     },
     "metadata": {
      "needs_background": "light"
     },
     "output_type": "display_data"
    }
   ],
   "source": [
    "# Fonte: https://www.vstram.com.br/blog/grafico-pareto-python-six-sigma/\n",
    "\n",
    "import seaborn as sns\n",
    "\n",
    "# Cria a barplot, define os eixos e a paleta de cores usada para colorir as barras\n",
    "plt.figure(figsize=(20,10))\n",
    "ax = sns.barplot(x=somas[\"state\"], y=somas[\"deaths\"], palette=\"RdYlBu\")\n",
    "ax.set_title(\"Pareto\", fontsize=40) # define e ajusta o tamanho da fonte do título\n",
    "\n",
    "somas[\"Percent\"] = somas[\"deaths\"]/somas[\"deaths\"].sum() * 100\n",
    "somas['CumPercent'] = somas[\"Percent\"].cumsum()\n",
    "\n",
    "# Eixo secundário\n",
    "ax2 = ax.twinx()\n",
    "\n",
    "# Cria a Curva de Pareto no eixo secundário\n",
    "ax2.plot(somas[\"state\"], somas[\"CumPercent\"], color=\"g\", marker=\"D\", ms=7, label='Pareto')\n",
    "\n",
    "# Configurações dos eixos \n",
    "ax2.tick_params(axis=\"y\", colors=\"g\")\n",
    "ax2.set_ylim([0,110])\n",
    "\n",
    "# Ajusta a inclinação dos labels do eixo x\n",
    "for tick in ax.get_xticklabels():\n",
    "    tick.set_rotation(45)\n",
    "\n",
    "# Mostra os labels com a percentagem acumulada em cada ponto\n",
    "gap = 5\n",
    "for i in range(len(somas[\"CumPercent\"])):\n",
    "    ax2.annotate(\"%.2f\" % somas[\"CumPercent\"][i], (somas[\"state\"][i], somas[\"CumPercent\"][i] + gap))\n"
   ]
  },
  {
   "cell_type": "markdown",
   "metadata": {},
   "source": [
    "**Calcule o coeficiente de correlação de Pearson para casos confirmados e mortes. Classifique essa correlação como forte, moderada ou fraca.**"
   ]
  },
  {
   "cell_type": "markdown",
   "metadata": {},
   "source": [
    "Coeficiente de correlação de Pearson:\n",
    "\n",
    "Propriedade: −1≤𝑟≤1\n",
    "\n",
    "É comum usar as seguintes classificações:   \n",
    "𝑟=1  indica uma correlação perfeita e positiva   \n",
    "𝑟=−1  indica uma correlação perfeita e negativa   \n",
    "0.7≤|𝑟|≤1  indica uma correlação forte   \n",
    "0.5≤|𝑟|≤0.69  indica uma correlação moderada   \n",
    "0≤|𝑟|≤0.49  indica uma correlação fraca"
   ]
  },
  {
   "cell_type": "code",
   "execution_count": 21,
   "metadata": {},
   "outputs": [
    {
     "data": {
      "text/plain": [
       "(0.918209816726233, 3.8768452766251617e-11)"
      ]
     },
     "execution_count": 21,
     "metadata": {},
     "output_type": "execute_result"
    }
   ],
   "source": [
    "from scipy.stats import pearsonr\n",
    "\n",
    "pearsonr(somas['confirmed'], somas['deaths'])\n",
    "# output (coef.corr. = r, p-value)"
   ]
  },
  {
   "cell_type": "markdown",
   "metadata": {},
   "source": [
    "0.92 indica uma correlação forte"
   ]
  },
  {
   "cell_type": "code",
   "execution_count": null,
   "metadata": {},
   "outputs": [],
   "source": []
  }
 ],
 "metadata": {
  "kernelspec": {
   "display_name": "Python 3",
   "language": "python",
   "name": "python3"
  },
  "language_info": {
   "codemirror_mode": {
    "name": "ipython",
    "version": 3
   },
   "file_extension": ".py",
   "mimetype": "text/x-python",
   "name": "python",
   "nbconvert_exporter": "python",
   "pygments_lexer": "ipython3",
   "version": "3.8.10"
  }
 },
 "nbformat": 4,
 "nbformat_minor": 4
}
